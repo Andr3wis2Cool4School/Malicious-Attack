{
 "cells": [
  {
   "cell_type": "code",
   "execution_count": 1,
   "id": "cb241c21",
   "metadata": {},
   "outputs": [],
   "source": [
    "import pandas as pd\n",
    "from sklearn.model_selection import train_test_split"
   ]
  },
  {
   "cell_type": "code",
   "execution_count": 2,
   "id": "5af3d252",
   "metadata": {},
   "outputs": [
    {
     "data": {
      "text/plain": [
       "(0    #BREAKING: A Germanwings Airbus A320 has crash...\n",
       " 1    Updated numbers @AP: BREAKING: #Germanwings CE...\n",
       " 2    @YanniKouts @germanwings @flightradar24 A bit ...\n",
       " 3    #Germanwings co-pilot suffered serious depress...\n",
       " 4    @ThisIsGaZa إِنَّا لِلّهِ وَإِنَّـا إِلَيْهِ ر...\n",
       " Name: Text, dtype: object,\n",
       " 0    rumours\n",
       " 1    rumours\n",
       " 2    rumours\n",
       " 3    rumours\n",
       " 4    rumours\n",
       " Name: Label, dtype: object)"
      ]
     },
     "execution_count": 2,
     "metadata": {},
     "output_type": "execute_result"
    }
   ],
   "source": [
    "df = pd.read_csv('Pheme.csv')\n",
    "X = df['Text']\n",
    "y = df['Label']\n",
    "\n",
    "X.head(), y.head()"
   ]
  },
  {
   "cell_type": "code",
   "execution_count": 13,
   "id": "97f2930d",
   "metadata": {},
   "outputs": [
    {
     "data": {
      "text/plain": [
       "pandas.core.series.Series"
      ]
     },
     "execution_count": 13,
     "metadata": {},
     "output_type": "execute_result"
    }
   ],
   "source": [
    "type(y)"
   ]
  },
  {
   "cell_type": "code",
   "execution_count": 21,
   "id": "b6420d69",
   "metadata": {},
   "outputs": [],
   "source": [
    "X_train, X_test, y_train, y_test = train_test_split(X, y, test_size=0.2, shuffle=True, random_state=2)"
   ]
  },
  {
   "cell_type": "code",
   "execution_count": 22,
   "id": "a5648bd3",
   "metadata": {},
   "outputs": [
    {
     "data": {
      "text/plain": [
       "(5140, 5140)"
      ]
     },
     "execution_count": 22,
     "metadata": {},
     "output_type": "execute_result"
    }
   ],
   "source": [
    "len(X_train), len(y_train)"
   ]
  },
  {
   "cell_type": "code",
   "execution_count": 23,
   "id": "58096760",
   "metadata": {},
   "outputs": [
    {
     "data": {
      "text/plain": [
       "(1286, 1286)"
      ]
     },
     "execution_count": 23,
     "metadata": {},
     "output_type": "execute_result"
    }
   ],
   "source": [
    "len(X_test), len(y_test)"
   ]
  },
  {
   "cell_type": "code",
   "execution_count": 24,
   "id": "cbed3db8",
   "metadata": {},
   "outputs": [
    {
     "data": {
      "text/plain": [
       "pandas.core.series.Series"
      ]
     },
     "execution_count": 24,
     "metadata": {},
     "output_type": "execute_result"
    }
   ],
   "source": [
    "type(y_test)"
   ]
  },
  {
   "cell_type": "code",
   "execution_count": 25,
   "id": "2009ca83",
   "metadata": {},
   "outputs": [
    {
     "data": {
      "text/plain": [
       "3408    0\n",
       "577     1\n",
       "3077    0\n",
       "6308    1\n",
       "2558    0\n",
       "       ..\n",
       "179     1\n",
       "3291    0\n",
       "2435    0\n",
       "5750    0\n",
       "6188    0\n",
       "Name: Label, Length: 1286, dtype: int64"
      ]
     },
     "execution_count": 25,
     "metadata": {},
     "output_type": "execute_result"
    }
   ],
   "source": [
    "def label(x):\n",
    "    if x == 'rumours':\n",
    "        x = 1\n",
    "    elif x == 'non-rumours':\n",
    "        x = 0\n",
    "    return x\n",
    "\n",
    "y_test = y_test.apply(lambda x: label(x))\n",
    "y_test"
   ]
  },
  {
   "cell_type": "code",
   "execution_count": 30,
   "id": "17dab5fc",
   "metadata": {},
   "outputs": [
    {
     "data": {
      "text/plain": [
       "tensor([0, 1, 0,  ..., 0, 0, 0])"
      ]
     },
     "execution_count": 30,
     "metadata": {},
     "output_type": "execute_result"
    }
   ],
   "source": [
    "import torch\n",
    "\n",
    "torch.tensor(y_test.values)"
   ]
  },
  {
   "cell_type": "code",
   "execution_count": 31,
   "id": "e2df84d4",
   "metadata": {},
   "outputs": [
    {
     "data": {
      "text/plain": [
       "tensor([1., 1., 1.,  ..., 0., 0., 0.], dtype=torch.float64)"
      ]
     },
     "execution_count": 31,
     "metadata": {},
     "output_type": "execute_result"
    }
   ],
   "source": [
    "y = y.apply(lambda x: label(x))\n",
    "torch.tensor(y.values)"
   ]
  },
  {
   "cell_type": "code",
   "execution_count": null,
   "id": "8533d650",
   "metadata": {},
   "outputs": [],
   "source": []
  }
 ],
 "metadata": {
  "kernelspec": {
   "display_name": "Python 3 (ipykernel)",
   "language": "python",
   "name": "python3"
  },
  "language_info": {
   "codemirror_mode": {
    "name": "ipython",
    "version": 3
   },
   "file_extension": ".py",
   "mimetype": "text/x-python",
   "name": "python",
   "nbconvert_exporter": "python",
   "pygments_lexer": "ipython3",
   "version": "3.9.7"
  }
 },
 "nbformat": 4,
 "nbformat_minor": 5
}
