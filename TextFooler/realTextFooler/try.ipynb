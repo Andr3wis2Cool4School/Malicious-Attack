{
 "cells": [
  {
   "cell_type": "code",
   "execution_count": 1,
   "id": "a6a8366e",
   "metadata": {},
   "outputs": [
    {
     "name": "stdout",
     "output_type": "stream",
     "text": [
      "Full Dataset: 1000\n",
      "Train Dataset: 800\n",
      "Test Dataset: 200\n"
     ]
    }
   ],
   "source": [
    "from model import Config, Model\n",
    "from data import build_vocab, build_iter\n",
    "import torch\n",
    "from trainer import train, test\n",
    "\n",
    "\n",
    "\n",
    "config = Config()\n",
    "train_set, test_set = build_vocab(config.data_path, config.tokenizer, config.train_size)\n",
    "train_iter, test_iter = build_iter(train_set, test_set, config.batch_size)\n",
    "\n",
    "\n"
   ]
  },
  {
   "cell_type": "code",
   "execution_count": 2,
   "id": "5b3cebfc",
   "metadata": {},
   "outputs": [],
   "source": [
    "for _, data in enumerate(train_iter, 0):\n",
    "    data = data\n",
    "    break"
   ]
  },
  {
   "cell_type": "code",
   "execution_count": 3,
   "id": "2e73f894",
   "metadata": {},
   "outputs": [],
   "source": [
    "ids = torch.LongTensor(data['ids'])\n",
    "mask = torch.LongTensor(data['mask'])\n",
    "y = torch.LongTensor(data['y']).squeeze(1)"
   ]
  },
  {
   "cell_type": "code",
   "execution_count": 4,
   "id": "d08478ae",
   "metadata": {},
   "outputs": [
    {
     "data": {
      "text/plain": [
       "torch.Size([32, 512])"
      ]
     },
     "execution_count": 4,
     "metadata": {},
     "output_type": "execute_result"
    }
   ],
   "source": [
    "ids.shape"
   ]
  },
  {
   "cell_type": "code",
   "execution_count": 5,
   "id": "3432a082",
   "metadata": {},
   "outputs": [
    {
     "name": "stderr",
     "output_type": "stream",
     "text": [
      "Some weights of the model checkpoint at bert-base-uncased were not used when initializing BertModel: ['cls.predictions.transform.LayerNorm.bias', 'cls.seq_relationship.weight', 'cls.predictions.transform.dense.bias', 'cls.predictions.transform.LayerNorm.weight', 'cls.predictions.decoder.weight', 'cls.predictions.bias', 'cls.predictions.transform.dense.weight', 'cls.seq_relationship.bias']\n",
      "- This IS expected if you are initializing BertModel from the checkpoint of a model trained on another task or with another architecture (e.g. initializing a BertForSequenceClassification model from a BertForPreTraining model).\n",
      "- This IS NOT expected if you are initializing BertModel from the checkpoint of a model that you expect to be exactly identical (initializing a BertForSequenceClassification model from a BertForSequenceClassification model).\n"
     ]
    }
   ],
   "source": [
    "net = Model(config)"
   ]
  },
  {
   "cell_type": "code",
   "execution_count": 6,
   "id": "992067ba",
   "metadata": {},
   "outputs": [
    {
     "data": {
      "text/plain": [
       "<All keys matched successfully>"
      ]
     },
     "execution_count": 6,
     "metadata": {},
     "output_type": "execute_result"
    }
   ],
   "source": [
    "net.to(config.device)\n",
    "net.load_state_dict(torch.load('attack_model/model.ckpt', map_location=torch.device('cpu')))"
   ]
  },
  {
   "cell_type": "code",
   "execution_count": 7,
   "id": "2e99d45b",
   "metadata": {},
   "outputs": [
    {
     "data": {
      "text/plain": [
       "Model(\n",
       "  (bert): BertModel(\n",
       "    (embeddings): BertEmbeddings(\n",
       "      (word_embeddings): Embedding(30522, 768, padding_idx=0)\n",
       "      (position_embeddings): Embedding(512, 768)\n",
       "      (token_type_embeddings): Embedding(2, 768)\n",
       "      (LayerNorm): LayerNorm((768,), eps=1e-12, elementwise_affine=True)\n",
       "      (dropout): Dropout(p=0.1, inplace=False)\n",
       "    )\n",
       "    (encoder): BertEncoder(\n",
       "      (layer): ModuleList(\n",
       "        (0): BertLayer(\n",
       "          (attention): BertAttention(\n",
       "            (self): BertSelfAttention(\n",
       "              (query): Linear(in_features=768, out_features=768, bias=True)\n",
       "              (key): Linear(in_features=768, out_features=768, bias=True)\n",
       "              (value): Linear(in_features=768, out_features=768, bias=True)\n",
       "              (dropout): Dropout(p=0.1, inplace=False)\n",
       "            )\n",
       "            (output): BertSelfOutput(\n",
       "              (dense): Linear(in_features=768, out_features=768, bias=True)\n",
       "              (LayerNorm): LayerNorm((768,), eps=1e-12, elementwise_affine=True)\n",
       "              (dropout): Dropout(p=0.1, inplace=False)\n",
       "            )\n",
       "          )\n",
       "          (intermediate): BertIntermediate(\n",
       "            (dense): Linear(in_features=768, out_features=3072, bias=True)\n",
       "          )\n",
       "          (output): BertOutput(\n",
       "            (dense): Linear(in_features=3072, out_features=768, bias=True)\n",
       "            (LayerNorm): LayerNorm((768,), eps=1e-12, elementwise_affine=True)\n",
       "            (dropout): Dropout(p=0.1, inplace=False)\n",
       "          )\n",
       "        )\n",
       "        (1): BertLayer(\n",
       "          (attention): BertAttention(\n",
       "            (self): BertSelfAttention(\n",
       "              (query): Linear(in_features=768, out_features=768, bias=True)\n",
       "              (key): Linear(in_features=768, out_features=768, bias=True)\n",
       "              (value): Linear(in_features=768, out_features=768, bias=True)\n",
       "              (dropout): Dropout(p=0.1, inplace=False)\n",
       "            )\n",
       "            (output): BertSelfOutput(\n",
       "              (dense): Linear(in_features=768, out_features=768, bias=True)\n",
       "              (LayerNorm): LayerNorm((768,), eps=1e-12, elementwise_affine=True)\n",
       "              (dropout): Dropout(p=0.1, inplace=False)\n",
       "            )\n",
       "          )\n",
       "          (intermediate): BertIntermediate(\n",
       "            (dense): Linear(in_features=768, out_features=3072, bias=True)\n",
       "          )\n",
       "          (output): BertOutput(\n",
       "            (dense): Linear(in_features=3072, out_features=768, bias=True)\n",
       "            (LayerNorm): LayerNorm((768,), eps=1e-12, elementwise_affine=True)\n",
       "            (dropout): Dropout(p=0.1, inplace=False)\n",
       "          )\n",
       "        )\n",
       "        (2): BertLayer(\n",
       "          (attention): BertAttention(\n",
       "            (self): BertSelfAttention(\n",
       "              (query): Linear(in_features=768, out_features=768, bias=True)\n",
       "              (key): Linear(in_features=768, out_features=768, bias=True)\n",
       "              (value): Linear(in_features=768, out_features=768, bias=True)\n",
       "              (dropout): Dropout(p=0.1, inplace=False)\n",
       "            )\n",
       "            (output): BertSelfOutput(\n",
       "              (dense): Linear(in_features=768, out_features=768, bias=True)\n",
       "              (LayerNorm): LayerNorm((768,), eps=1e-12, elementwise_affine=True)\n",
       "              (dropout): Dropout(p=0.1, inplace=False)\n",
       "            )\n",
       "          )\n",
       "          (intermediate): BertIntermediate(\n",
       "            (dense): Linear(in_features=768, out_features=3072, bias=True)\n",
       "          )\n",
       "          (output): BertOutput(\n",
       "            (dense): Linear(in_features=3072, out_features=768, bias=True)\n",
       "            (LayerNorm): LayerNorm((768,), eps=1e-12, elementwise_affine=True)\n",
       "            (dropout): Dropout(p=0.1, inplace=False)\n",
       "          )\n",
       "        )\n",
       "        (3): BertLayer(\n",
       "          (attention): BertAttention(\n",
       "            (self): BertSelfAttention(\n",
       "              (query): Linear(in_features=768, out_features=768, bias=True)\n",
       "              (key): Linear(in_features=768, out_features=768, bias=True)\n",
       "              (value): Linear(in_features=768, out_features=768, bias=True)\n",
       "              (dropout): Dropout(p=0.1, inplace=False)\n",
       "            )\n",
       "            (output): BertSelfOutput(\n",
       "              (dense): Linear(in_features=768, out_features=768, bias=True)\n",
       "              (LayerNorm): LayerNorm((768,), eps=1e-12, elementwise_affine=True)\n",
       "              (dropout): Dropout(p=0.1, inplace=False)\n",
       "            )\n",
       "          )\n",
       "          (intermediate): BertIntermediate(\n",
       "            (dense): Linear(in_features=768, out_features=3072, bias=True)\n",
       "          )\n",
       "          (output): BertOutput(\n",
       "            (dense): Linear(in_features=3072, out_features=768, bias=True)\n",
       "            (LayerNorm): LayerNorm((768,), eps=1e-12, elementwise_affine=True)\n",
       "            (dropout): Dropout(p=0.1, inplace=False)\n",
       "          )\n",
       "        )\n",
       "        (4): BertLayer(\n",
       "          (attention): BertAttention(\n",
       "            (self): BertSelfAttention(\n",
       "              (query): Linear(in_features=768, out_features=768, bias=True)\n",
       "              (key): Linear(in_features=768, out_features=768, bias=True)\n",
       "              (value): Linear(in_features=768, out_features=768, bias=True)\n",
       "              (dropout): Dropout(p=0.1, inplace=False)\n",
       "            )\n",
       "            (output): BertSelfOutput(\n",
       "              (dense): Linear(in_features=768, out_features=768, bias=True)\n",
       "              (LayerNorm): LayerNorm((768,), eps=1e-12, elementwise_affine=True)\n",
       "              (dropout): Dropout(p=0.1, inplace=False)\n",
       "            )\n",
       "          )\n",
       "          (intermediate): BertIntermediate(\n",
       "            (dense): Linear(in_features=768, out_features=3072, bias=True)\n",
       "          )\n",
       "          (output): BertOutput(\n",
       "            (dense): Linear(in_features=3072, out_features=768, bias=True)\n",
       "            (LayerNorm): LayerNorm((768,), eps=1e-12, elementwise_affine=True)\n",
       "            (dropout): Dropout(p=0.1, inplace=False)\n",
       "          )\n",
       "        )\n",
       "        (5): BertLayer(\n",
       "          (attention): BertAttention(\n",
       "            (self): BertSelfAttention(\n",
       "              (query): Linear(in_features=768, out_features=768, bias=True)\n",
       "              (key): Linear(in_features=768, out_features=768, bias=True)\n",
       "              (value): Linear(in_features=768, out_features=768, bias=True)\n",
       "              (dropout): Dropout(p=0.1, inplace=False)\n",
       "            )\n",
       "            (output): BertSelfOutput(\n",
       "              (dense): Linear(in_features=768, out_features=768, bias=True)\n",
       "              (LayerNorm): LayerNorm((768,), eps=1e-12, elementwise_affine=True)\n",
       "              (dropout): Dropout(p=0.1, inplace=False)\n",
       "            )\n",
       "          )\n",
       "          (intermediate): BertIntermediate(\n",
       "            (dense): Linear(in_features=768, out_features=3072, bias=True)\n",
       "          )\n",
       "          (output): BertOutput(\n",
       "            (dense): Linear(in_features=3072, out_features=768, bias=True)\n",
       "            (LayerNorm): LayerNorm((768,), eps=1e-12, elementwise_affine=True)\n",
       "            (dropout): Dropout(p=0.1, inplace=False)\n",
       "          )\n",
       "        )\n",
       "        (6): BertLayer(\n",
       "          (attention): BertAttention(\n",
       "            (self): BertSelfAttention(\n",
       "              (query): Linear(in_features=768, out_features=768, bias=True)\n",
       "              (key): Linear(in_features=768, out_features=768, bias=True)\n",
       "              (value): Linear(in_features=768, out_features=768, bias=True)\n",
       "              (dropout): Dropout(p=0.1, inplace=False)\n",
       "            )\n",
       "            (output): BertSelfOutput(\n",
       "              (dense): Linear(in_features=768, out_features=768, bias=True)\n",
       "              (LayerNorm): LayerNorm((768,), eps=1e-12, elementwise_affine=True)\n",
       "              (dropout): Dropout(p=0.1, inplace=False)\n",
       "            )\n",
       "          )\n",
       "          (intermediate): BertIntermediate(\n",
       "            (dense): Linear(in_features=768, out_features=3072, bias=True)\n",
       "          )\n",
       "          (output): BertOutput(\n",
       "            (dense): Linear(in_features=3072, out_features=768, bias=True)\n",
       "            (LayerNorm): LayerNorm((768,), eps=1e-12, elementwise_affine=True)\n",
       "            (dropout): Dropout(p=0.1, inplace=False)\n",
       "          )\n",
       "        )\n",
       "        (7): BertLayer(\n",
       "          (attention): BertAttention(\n",
       "            (self): BertSelfAttention(\n",
       "              (query): Linear(in_features=768, out_features=768, bias=True)\n",
       "              (key): Linear(in_features=768, out_features=768, bias=True)\n",
       "              (value): Linear(in_features=768, out_features=768, bias=True)\n",
       "              (dropout): Dropout(p=0.1, inplace=False)\n",
       "            )\n",
       "            (output): BertSelfOutput(\n",
       "              (dense): Linear(in_features=768, out_features=768, bias=True)\n",
       "              (LayerNorm): LayerNorm((768,), eps=1e-12, elementwise_affine=True)\n",
       "              (dropout): Dropout(p=0.1, inplace=False)\n",
       "            )\n",
       "          )\n",
       "          (intermediate): BertIntermediate(\n",
       "            (dense): Linear(in_features=768, out_features=3072, bias=True)\n",
       "          )\n",
       "          (output): BertOutput(\n",
       "            (dense): Linear(in_features=3072, out_features=768, bias=True)\n",
       "            (LayerNorm): LayerNorm((768,), eps=1e-12, elementwise_affine=True)\n",
       "            (dropout): Dropout(p=0.1, inplace=False)\n",
       "          )\n",
       "        )\n",
       "        (8): BertLayer(\n",
       "          (attention): BertAttention(\n",
       "            (self): BertSelfAttention(\n",
       "              (query): Linear(in_features=768, out_features=768, bias=True)\n",
       "              (key): Linear(in_features=768, out_features=768, bias=True)\n",
       "              (value): Linear(in_features=768, out_features=768, bias=True)\n",
       "              (dropout): Dropout(p=0.1, inplace=False)\n",
       "            )\n",
       "            (output): BertSelfOutput(\n",
       "              (dense): Linear(in_features=768, out_features=768, bias=True)\n",
       "              (LayerNorm): LayerNorm((768,), eps=1e-12, elementwise_affine=True)\n",
       "              (dropout): Dropout(p=0.1, inplace=False)\n",
       "            )\n",
       "          )\n",
       "          (intermediate): BertIntermediate(\n",
       "            (dense): Linear(in_features=768, out_features=3072, bias=True)\n",
       "          )\n",
       "          (output): BertOutput(\n",
       "            (dense): Linear(in_features=3072, out_features=768, bias=True)\n",
       "            (LayerNorm): LayerNorm((768,), eps=1e-12, elementwise_affine=True)\n",
       "            (dropout): Dropout(p=0.1, inplace=False)\n",
       "          )\n",
       "        )\n",
       "        (9): BertLayer(\n",
       "          (attention): BertAttention(\n",
       "            (self): BertSelfAttention(\n",
       "              (query): Linear(in_features=768, out_features=768, bias=True)\n",
       "              (key): Linear(in_features=768, out_features=768, bias=True)\n",
       "              (value): Linear(in_features=768, out_features=768, bias=True)\n",
       "              (dropout): Dropout(p=0.1, inplace=False)\n",
       "            )\n",
       "            (output): BertSelfOutput(\n",
       "              (dense): Linear(in_features=768, out_features=768, bias=True)\n",
       "              (LayerNorm): LayerNorm((768,), eps=1e-12, elementwise_affine=True)\n",
       "              (dropout): Dropout(p=0.1, inplace=False)\n",
       "            )\n",
       "          )\n",
       "          (intermediate): BertIntermediate(\n",
       "            (dense): Linear(in_features=768, out_features=3072, bias=True)\n",
       "          )\n",
       "          (output): BertOutput(\n",
       "            (dense): Linear(in_features=3072, out_features=768, bias=True)\n",
       "            (LayerNorm): LayerNorm((768,), eps=1e-12, elementwise_affine=True)\n",
       "            (dropout): Dropout(p=0.1, inplace=False)\n",
       "          )\n",
       "        )\n",
       "        (10): BertLayer(\n",
       "          (attention): BertAttention(\n",
       "            (self): BertSelfAttention(\n",
       "              (query): Linear(in_features=768, out_features=768, bias=True)\n",
       "              (key): Linear(in_features=768, out_features=768, bias=True)\n",
       "              (value): Linear(in_features=768, out_features=768, bias=True)\n",
       "              (dropout): Dropout(p=0.1, inplace=False)\n",
       "            )\n",
       "            (output): BertSelfOutput(\n",
       "              (dense): Linear(in_features=768, out_features=768, bias=True)\n",
       "              (LayerNorm): LayerNorm((768,), eps=1e-12, elementwise_affine=True)\n",
       "              (dropout): Dropout(p=0.1, inplace=False)\n",
       "            )\n",
       "          )\n",
       "          (intermediate): BertIntermediate(\n",
       "            (dense): Linear(in_features=768, out_features=3072, bias=True)\n",
       "          )\n",
       "          (output): BertOutput(\n",
       "            (dense): Linear(in_features=3072, out_features=768, bias=True)\n",
       "            (LayerNorm): LayerNorm((768,), eps=1e-12, elementwise_affine=True)\n",
       "            (dropout): Dropout(p=0.1, inplace=False)\n",
       "          )\n",
       "        )\n",
       "        (11): BertLayer(\n",
       "          (attention): BertAttention(\n",
       "            (self): BertSelfAttention(\n",
       "              (query): Linear(in_features=768, out_features=768, bias=True)\n",
       "              (key): Linear(in_features=768, out_features=768, bias=True)\n",
       "              (value): Linear(in_features=768, out_features=768, bias=True)\n",
       "              (dropout): Dropout(p=0.1, inplace=False)\n",
       "            )\n",
       "            (output): BertSelfOutput(\n",
       "              (dense): Linear(in_features=768, out_features=768, bias=True)\n",
       "              (LayerNorm): LayerNorm((768,), eps=1e-12, elementwise_affine=True)\n",
       "              (dropout): Dropout(p=0.1, inplace=False)\n",
       "            )\n",
       "          )\n",
       "          (intermediate): BertIntermediate(\n",
       "            (dense): Linear(in_features=768, out_features=3072, bias=True)\n",
       "          )\n",
       "          (output): BertOutput(\n",
       "            (dense): Linear(in_features=3072, out_features=768, bias=True)\n",
       "            (LayerNorm): LayerNorm((768,), eps=1e-12, elementwise_affine=True)\n",
       "            (dropout): Dropout(p=0.1, inplace=False)\n",
       "          )\n",
       "        )\n",
       "      )\n",
       "    )\n",
       "    (pooler): BertPooler(\n",
       "      (dense): Linear(in_features=768, out_features=768, bias=True)\n",
       "      (activation): Tanh()\n",
       "    )\n",
       "  )\n",
       "  (fc1): Linear(in_features=768, out_features=268, bias=True)\n",
       "  (dropout): Dropout(p=0.2, inplace=False)\n",
       "  (relu): ReLU()\n",
       "  (fc2): Linear(in_features=268, out_features=2, bias=True)\n",
       ")"
      ]
     },
     "execution_count": 7,
     "metadata": {},
     "output_type": "execute_result"
    }
   ],
   "source": [
    "net.eval()"
   ]
  },
  {
   "cell_type": "code",
   "execution_count": 8,
   "id": "2de85df0",
   "metadata": {},
   "outputs": [],
   "source": [
    "word_embedding = net.bert.embeddings(ids, mask)"
   ]
  },
  {
   "cell_type": "code",
   "execution_count": 9,
   "id": "eba92c62",
   "metadata": {},
   "outputs": [
    {
     "data": {
      "text/plain": [
       "torch.Size([32, 512, 768])"
      ]
     },
     "execution_count": 9,
     "metadata": {},
     "output_type": "execute_result"
    }
   ],
   "source": [
    "word_embedding.shape"
   ]
  },
  {
   "cell_type": "code",
   "execution_count": 20,
   "id": "d9bd27bc",
   "metadata": {},
   "outputs": [
    {
     "ename": "RuntimeError",
     "evalue": "you can only change requires_grad flags of leaf variables.",
     "output_type": "error",
     "traceback": [
      "\u001b[0;31m---------------------------------------------------------------------------\u001b[0m",
      "\u001b[0;31mRuntimeError\u001b[0m                              Traceback (most recent call last)",
      "\u001b[0;32m/var/folders/l5/zwtc0m5n30qfv9j2sf49f0y80000gn/T/ipykernel_2446/1246508017.py\u001b[0m in \u001b[0;36m<module>\u001b[0;34m\u001b[0m\n\u001b[0;32m----> 1\u001b[0;31m \u001b[0mword_embedding\u001b[0m\u001b[0;34m.\u001b[0m\u001b[0mrequires_grad\u001b[0m \u001b[0;34m=\u001b[0m \u001b[0;32mTrue\u001b[0m\u001b[0;34m\u001b[0m\u001b[0;34m\u001b[0m\u001b[0m\n\u001b[0m",
      "\u001b[0;31mRuntimeError\u001b[0m: you can only change requires_grad flags of leaf variables."
     ]
    }
   ],
   "source": [
    "word_embedding.requires_grad = True"
   ]
  },
  {
   "cell_type": "code",
   "execution_count": 11,
   "id": "fe19129f",
   "metadata": {},
   "outputs": [
    {
     "data": {
      "text/plain": [
       "tensor([[  101,  8275, 11744,  ..., 29523,  4895,   102],\n",
       "        [  101,  4259,  2457,  ...,     0,     0,     0],\n",
       "        [  101,  1037,  3899,  ...,  2005,  2035,   102],\n",
       "        ...,\n",
       "        [  101, 14072, 23974,  ..., 23082,  3886,   102],\n",
       "        [  101,  2027,  2056,  ...,     0,     0,     0],\n",
       "        [  101,  8398,  5751,  ...,  1996,  2142,   102]])"
      ]
     },
     "execution_count": 11,
     "metadata": {},
     "output_type": "execute_result"
    }
   ],
   "source": [
    "data['ids']"
   ]
  },
  {
   "cell_type": "code",
   "execution_count": 16,
   "id": "c83c7342",
   "metadata": {},
   "outputs": [
    {
     "data": {
      "text/plain": [
       "PreTrainedTokenizer(name_or_path='bert-base-uncased', vocab_size=30522, model_max_len=512, is_fast=False, padding_side='right', special_tokens={'unk_token': '[UNK]', 'sep_token': '[SEP]', 'pad_token': '[PAD]', 'cls_token': '[CLS]', 'mask_token': '[MASK]'})"
      ]
     },
     "execution_count": 16,
     "metadata": {},
     "output_type": "execute_result"
    }
   ],
   "source": [
    "config.tokenizer"
   ]
  },
  {
   "cell_type": "code",
   "execution_count": 17,
   "id": "67fd9ebf",
   "metadata": {},
   "outputs": [
    {
     "data": {
      "text/plain": [
       "'bert-base-uncased'"
      ]
     },
     "execution_count": 17,
     "metadata": {},
     "output_type": "execute_result"
    }
   ],
   "source": [
    "config.tokenizer.name_or_path"
   ]
  },
  {
   "cell_type": "code",
   "execution_count": 19,
   "id": "d3880090",
   "metadata": {},
   "outputs": [
    {
     "data": {
      "text/plain": [
       "['fake websites, fake polls, fake news, fake leaks the desperate maneuvers of the losing clinton campaign daisy luther in mainstream media, politics, propaganda, sleuth journal yes, virginia, there really is a poll fairy skewing the polls in favor of hillary clinton yesterday, i wrote about a brand new leak that had come my way i read through the first 5 pages, confirmed that the two entities in the document were genuine and were really in cahoots, and quickly got out the information that the polls we are seeing with clinton in the lead are fake but, in full disclosure, i made a mistake i really should have read the last 3 pages, because if i had, i would n t have published the document as a legitimate leak it was full of outrageous hollywood sci fi salvage options for the campaign that included magnetized mind control and a fake alien invasion it s interesting to note that all of those options actually do exist darpa experiments on things like that, and things even creepier however, it seems far fetched that the clinton campaign would could go that far, and even more so that a business that does polls and analyzes them would have experimented with the tactics so, i removed the post there are enough lies and rumors going around the internet without me adding to them that is n t the end of the story, though, because part of that document was legit i began to do further research and discovered that the gist of the fake document was accurate the polls in the msm that show hillary in the lead are being faked, and they re being bought and paid for we re all being manipulated by the collusion of hillary clinton, the dnc, and the media their attempts at predictive programming through fake polls is so blatant that even the most oblivious people have noticed that something seems awry it has long been a successful method of propaganda to leave in just enough truth to make the lie seem viable in mein kampf, adolf hitler wrote \\\\ ( emphasis mine \\\\ ) all this was inspired by the principle which is quite true within itself t hat in the big lie there is always a certain force of credibility because the broad masses of a nation are always more easily corrupted in the deeper strata of their emotional nature than consciously or voluntarily and thus in the primitive simplicity of their minds they more readily fall victims to the big lie than the small lie, since they themselves often tell small lies in little matters but would be ashamed to resort to large scale falsehoods it would never come into their heads to fabricate colossal un',\n",
       " 'supreme court decides to weigh in on transgender rights adalia woodbury by adalia woodbury on sun, oct 30th, 2016 at 11 31 pm on friday, the supreme court decided to weigh in on transgender rights in the case of gloucester county school board vs g g this gives the right wing another chance to take civil rights away from people they do n t like plain and simple share on twitter print this post on friday, the supreme court decided to weigh in on transgender rights in the case of gloucester county school board vs g g this gives the right wing another chance to take civil rights away from people they do n t like plain and simple at issue is whether a transgender student who identifies as a boy has a right to use the bathroom that corresponds with the gender he identifies with last summer, the court granted the school board s request to put a lower court ruling in the student s favor on hold until the board filed its petition for review by the supreme court justice breyer joined the conservative justices in that ruling as a courtesy the virginia school board established a policy mirroring bathroom police laws in red states like north carolina that required students to use rest rooms and locker rooms to correspond with the gender they were assigned at birth in this case, the district court ruled against g g by relying on a 1975 regulation allowing schools to provide separate toilet, locker room and shower facilities based on sex provided those facilities are comparable to those provided to the opposite sex in january 2015, the department of education s office of civil rights issued a letter opining that if schools separate students in restroom and locker rooms based on their sex a school must treat transgender students in a manner consistent with their gender identity because of that letter, the u s court of appeals for the 4th circuit reversed the lower court ruling in favor of g g it relied on a 1997 supreme court decision that courts generally should defer to an agency s interpretation of its own regulation in reality, the right wing hopes to achieve two political objectives with this case first, this is about denying basic rights and dignity to people who are transgender, which is consistent with their ideological opposition to rights for women, poc and members of the lgbt community second, the right wing is hoping to weaken federal agencies by attacking their ability to interpret their own regulations',\n",
       " 'a dog s purpose premiere is canceled amid outrage over video of distressed german shepherd the new york times daniel victor the red carpet premiere for the film a dog s purpose scheduled for saturday has been canceled amid calls for a boycott after a video surfaced on wednesday showing a german shepherd being forced into rushing waters during filming in the video, obtained by tmz, the dog appears to be fighting to stay out of the stream as a man in a green suit wrestles to put the animal in the footage then cuts to a scene of the dog submerged as people swim toward it a voice can be heard yelling cut it! cut it! the source of the video, recorded in 2015, was not immediately clear, but the filmmakers have not disputed its authenticity the identity of the man in the video was also not immediately revealed amblin entertainment, the film s producer, and universal pictures, its distributor, said in a joint statement on thursday night that it was in the best interest to cancel the premiere and press junket set for saturday in los angeles the statement said amblin s review into the video was continuing the movie, starring dennis quaid, will open in theaters nationwide on jan 27 as scheduled amblin and universal do not want anything to overshadow this film that celebrates the relationship between animals and humans, the statement said, adding since the emergence of the footage, amblin has engaged with many associated with the production of the film, including safety personnel, trainers and stunt coordinators as part of their review while we are all disheartened by the appearance of an animal in distress, everyone has assured us that hercules the german shepherd was not harmed throughout the filmmaking in a statement on wednesday, amblin and universal said hercules was happy and healthy there were several days of rehearsal of the water scenes to ensure hercules was comfortable with all of the stunts, the statement continued on the day of the shoot, hercules did not want to perform the stunt portrayed on the tape, so the amblin production team did not proceed with filming that shot for a movie aimed squarely at an audience of dog lovers, the footage threatens to repel the precise audience filmmakers hope to draw people for the ethical treatment of animals has urged moviegoers to boycott the film several people involved in the film condemned the actions seen in the video lasse hallstrom, the director, said on twitter he had not witnessed the events but was very disturbed by the footage he said he had been promised a thorough investigation we were all committed to providing a loving and safe environment for all',\n",
       " 'lawsuit clouds texas transgender student wrestler s championship merrill hope a north texas transgender high school wrestler, transitioning from female to male, won a girls regional championship when the female opponent forfeited the match over the weekend euless trinity high school junior mack beggs, 17, triumphed in the girls class 6a region 2 championship against coppell high schooler madeline rocha, who declined to participate in the wrestling match on saturday the forfeit was expected the dallas morning news reported coppell attorney jim baudhuin filed a lawsuit earlier in february against the university interscholastic league \\\\ ( uil \\\\ ) the governing body over texas high school athletics, music, and academic events he urged the league to suspend beggs over steroid use, which is prohibited by uil rules and the texas education code beggs takes testosterone while transitioning from female to male baudhuin s complaint asserted that allowing beggs to wrestle competitively while using testosterone exposed the other athletes to the imminent threat of bodily harm baudhuin is also a wrestling parent, but his daughter does not compete in the same weight class as beggs he contended the lawsuit had nothing to do with beggs being a transgender male but over coppell coaches concerned that wrestling beggs would be unsafe for their wrestler the transgender student s grandmother and guardian, nancy beggs, called the forfeited match about bias, hatred, and ignorance, according to the dallas paper chapter 38 of the texas education code forbids steroid and human growth hormone usage in athletics for enhancement purposes, considering it a criminal offense punishable by prison time however, it does permit the use of anabolic steroids for medical use only when a doctor prescribes treatment for the individual similarly, the uil allows a licensed practitioner with prescriptive authority to administer a steroid for a person even though beggs identifies as male, the wrestler must compete against girls because of a uil rule that requires to compete by the gender listed on their birth certificates in early 2016, texas public school district superintendents voted in favor of an amendment requiring state officials to use a s birth certificate to determine gender identification, breitbart texas reported that rule went into effect on august 1, although former texas education commissioner michael williams previously approved the amendment as part of an 11 rule packet in november 2015 it codified what the league already advised superintendents do in handling such situations use birth certificates when gender questions arise the uil wrestling manual prohibits boys and girls from grappling with each other in texas',\n",
       " 'trump s inauguration rabbi president likely to affirm his stance on jerusalem during next week s visit deborah danan tel aviv president donald trump s inauguration rabbi criticized the president and his administration for its seeming reticence to clarify its position on israel s sovereignty over jerusalem, but added that he was confident the president would erase all doubts once he arrives in israel next week speaking to the algemeiner on tuesday, rabbi marvin hier the founder and dean of the simon wiesenthal center \\\\ ( swc \\\\ ) in los angeles said he believes trump will reaffirm his stance that jerusalem is the eternal capital of israel trump is not going to let it stand that the kotel \\\\ ( western wall \\\\ ) is going to be under the sovereignty of another nation, or that it ll be internationalized, as the vatican would like, hier said those are unworkable suggestions that are never going to be agreed upon by the state of israel trump has made it clear on so many occasions that jerusalem is the eternal capital of israel, so it would be quite a reversal for him to state differently on this occasion hier s remarks came after a press briefing earlier in the day by trump s national security adviser h r mcmaster, who declined to give direct answers when pressed as to whether the u s regards the western wall as part of israel mcmaster only said that the matter was a policy decision on tuesday, white house spokesman sean spicer affirmed that the holy site is clearly in jerusalem the debate swirling around the trump administration s position on israel intensified in recent days when it was revealed that a senior member of the u s delegation reportedly angrily shouted at his israeli counterpart that the western wall was part of the west bank however, it later emerged that the official was david berns, a political counselor at the u s consulate in jerusalem who took up the role during the obama administration later that day, the white house said that bern s position did not reflect that of the administration or the president on tuesday, mcmaster confirmed that prime minister benjamin netanyahu s request to accompany the president on his visit to the western wall would not be fulfilled, stating that no israeli leaders would be joining the president even though trump will be the first sitting president to go to the western wall, the white house said it would be in the framework of a private visit the western wall, together with the temple mount complex and the eastern part of jerusalem, was captured during the 1967 six day war its final status has not been agreed on by the international community, which views it as a',\n",
       " 'china warmly welcomes a giant rooster with trumpian characteristics the new york times mike ives hong kong donald j trump s golden quiff, bushy eyebrows and preening gestures were immortalized this week in china though perhaps not in a way that he would like they appeared on a giant rooster statue, just above some feet and a wattle that hangs below a gilded nose and mouth the statue, which was installed outside a shopping mall in the northern chinese city of taiyuan, was built to celebrate the coming year of the rooster in the chinese lunar calendar and comes less than a month before mr trump s inauguration it is 23 feet tall relations between washington and beijing have been especially jittery in recent weeks the tension is due in large part to mr trump, who belittled china during his presidential campaign and caused a diplomatic stir this month by making clear that he views the central basis for diplomatic relations between washington and beijing known as the one china policy as up for negotiation but reaction to the rooster on chinese social media was light and full of positive emoji global times, a tabloid, said on tuesday that onlookers in taiyuan, the capital of shanxi province, had praised the statue as a perfect blend of chinese and western cultures it s not bad looking, zhang guoqiang, an employee at the yihui japanese restaurant at the north america n1 art shopping center, where the statue is, said by telephone on thursday inflatable trump chicken replicas were on sale at taobao, an online shopping bazaar, with a version advertised for 1, 725 casey latiolais, an illustrator and animator in seattle, said in a telephone interview that he completed the design in early november for beijing reliance commercial land, a real estate company that had contacted him through behance, a website where artists post their portfolios mr latiolais said the company had asked only for a statue to commemorate the year of the rooster and did not mention mr trump mr latiolais, 30, declined to comment on why he had given the rooster features but he said he had been surprised by the size of the final product, which is made of fiberglass this was way more yuge than i expected, he wrote on twitter mr latiolais said that he was also surprised when the statue was sort of bipartisanly looked at as funny by his friends and family including his parents, who voted for mr trump it was not the first time since the american presidential election that people in china had likened mr trump to a bird',\n",
       " 'leaked audio of hillary clinton proposing rigging election nan weird news thanks for sharing liked us \\\\?! disclose tv uses cookies to ensure you get the best experience on the website read our privacy policy for more agree before you go, check this out on disclose tv',\n",
       " 'federal judge bars north dakota from enforcing restrictive voter id law the new york times michael wines a federal judge on monday barred north dakota from enforcing the state s strict voter law, adding to several recent federal court rulings that such laws may disenfranchise minority voters judge daniel l hovland of the united states district court for north dakota issued a preliminary injunction against the law, which he said had made it difficult and sometimes impossible for some native americans on rural reservations to cast ballots judge hovland s injunction did not strike down the law but north dakota s secretary of state, alvin jaeger, indicated in an interview that the state would not appeal the decision and that november s election would revert to using less restrictive identification rules that were in force before the 2013 law was enacted after the election we have a legislative session coming up, and we ll see how we can address the issues then, he said like other laws that have been challenged, the north dakota statute was passed by a legislature that asserted stronger measures were needed to curb voter fraud democratic legislators said that it was intended solely to suppress voting among traditionally democratic constituencies the law allowed voters to present a broad range of documents or simply to take an oath affirming their identity the new law, which some critics said was among the most restrictive in the nation, limited acceptable ids to a valid state driver s license, a nondriver state id, a care certificate or a tribal identification card, each of which had to show a voter s current address the law also eliminated any measures, like swearing an oath, for voters who lacked a card in their lawsuit, the plaintiffs argued that many native americans did not have addresses and that many tribal id cards did not require them the barriers to obtaining a required id, they said, were high there are no license offices on reservations, and a significant share of native americans lack either the money to obtain an id or the proofs of identity, such as a birth certificate or social security card, that are necessary to get one the record is replete with concrete evidence of significant burdens imposed on native american voters attempting to exercise their right to vote, judge hovland wrote nor, he stated, was there any evidence that the state needed such a restrictive id policy to the contrary, he wrote, the record before the court reveals that the secretary of state acknowledged in 2006 that he was unaware of any voter fraud in north dakota the plaintiffs lawyer, thomas a dickson of bismarck, said he believed that the state s elections procedures, which once were nonpartisan, had',\n",
       " 'in a smoky haze, turks cling to their cigarettes the new york times rod nordland istanbul the italians have a saying for it fuma come un turco, meaning, he smokes like a turk there are actually plenty of people who smoke more than the turks, but there are times when a visitor here may find that hard to believe the famous istiklal avenue, one of the world s most appealing pedestrian spaces with its cobbled pavement and little red trams clacking down the middle, bells dinging, can be covered over on a crowded weekend night by an inescapably dense, cloud of secondhand smoke, hovering between the elegant, tall buildings on either side along dusky alleyways in kadikoy, the trendiest part of istanbul, on the once less fashionable asian side of the bosporus, cafes typically have a few tables inside and many more outside where smoking is allowed on even the coldest days, the outside tables are crowded, smokers kept warm by overhead heaters and lap blankets provided at each chair some restaurants go so far as to remove their outside walls, replacing them with transparent plastic sheeting, to make the entire place at least officially outdoors if the government has its way, however, the cafe culture s smoking days are numbered in april it proposed a law limiting outside smoking tables to no more than 25 percent of an establishment s total almost the reverse of the present trend, at least in major cities like istanbul that prospect is greeted with horror in the cafes if there s such a law, we ll have to close down, said a waiter named okan, at a hip bar in kadikoy \\\\ ( he asked that the bar not be named, as there were not only smoking scofflaws inside, but che guevara posters and logos too \\\\ ) we do n t want to get shut down turkey has made tremendous efforts to counteract its reputation and its smoking habit with measures that are nearly as strict as those in any western country, and far stricter than those found in most developing societies it has outlawed smoking in public places, not only inside restaurants but also outside government buildings, and even banned it above decks on the innumerable ferry boats plying the bosporus turkey s president recep tayyip erdogan, used his growing power and popularity to push through most of these antismoking measures beginning in 2008 even the cherished tradition of the nargile, or turkish water pipe, in which flavored plugs of tobacco are smoked through long',\n",
       " 'mysterious buyer of trump s childhood home said to be from china the new york times sarah maslin nir they first arrived in late january, caravans of black escalades driving along a small street in jamaica estates, an upscale neighborhood in queens, and stopping in front of a modest house that had just been sold at auction the home where president trump lived as a boy out stepped a stream of people in business suits, according to a neighbor, all speaking chinese the visits spiked between the auction and the closing of the sale last week, according to the neighbor, who did not want to be identified because of concerns about her privacy it was revealed last week that the home had been bought by trump birth house, a limited liability company that obscured the identity of the person behind it but while the buyer s identity remained unknown, a person with knowledge of the deal said that the new owner, who spent over 2 million for the childhood home of the current president of the united states, is a woman from china why is there an influx of chinese people interested in this house, of all people \\\\? the neighbor said she recalled wondering what do they want \\\\? the house on wareham place has become another curiosity in the vast orbit of properties connected to mr trump, even though he last lived in the home, built by his father, fred c trump, when he was 4 the house s intrigue lies not just in the price it fetched in an auction by paramount realty usa 2 14 million, more than double the price of comparable houses in the area but also in the mystery surrounding the buyer she remains unknown, shrouded behind the limited liability company a thin trail of documents associated with the sale led first to a office on main street in flushing, queens, of michael x tang, a lawyer who represents trump birth house in the cramped and bustling office, which, according to its website, specializes in facilitating chinese purchases of american real estate, a woman at a desk welcomed visitors oh, about the trump house, she said she continued mr tang declined to comment documents show that mr tang was also the lawyer for a seemingly unrelated transaction on a palatial home in old westbury, n y which sold for more than 3 6 million in 2014 to a person named jiying wei the redbrick mansion, tucked at the end of a and abutted by a private tennis court, is a far cry from the modest childhood home of mr trump but, according to a person with knowledge of the sale, the mansion s owner is a relative of the woman from',\n",
       " 'soul searching at clinton foundation in trump era the new york times steve eder, sheri fink and amy chozick last summer, former president bill clinton pledged that if hillary clinton won the presidential election, he would avoid conflicts by stepping aside from many of his duties at the clinton foundation, restricting foreign donations to the charity and spinning off certain programs now, nearly three months after mrs clinton s defeat, the foundation is still grappling with its place in the era of president trump it faces some daunting challenges a drop in during the campaign uncertainty about the scale of the former president s ambitions and questions about leadership, including how long its president, donna e shalala, will stay, and whether mrs clinton might rejoin the charity mr clinton, in a letter to be released with the foundation s annual report this week, went so far as to ask supporters for advice on its future we seek both your input and your ideas, he wrote, noting that the organization would work to expand its impact ms shalala, in an interview on thursday, acknowledged the difficulties last year was a tough year, she said, because people were beating on us with nonsense, a reference to bruising political attacks claiming that donors were using the foundation to curry favor with the clintons revenues were down for 2016, ms shalala acknowledged, in part because of voluntary restrictions and the fact that the charity s major the former president and his daughter, chelsea were campaigning for mrs clinton revenues dropped during the economic downturn, too, ms shalala said still, both mr clinton and ms shalala, who also cited concerns in keeping talent, expressed optimism at the end of the day, she said, i think this is going to be as it always was a creative, dynamic foundation that helps to improve the lives of millions as the foundation looks within, many experts said it was right to assess its future, including whether a great enough need still existed for its most prominent asset the ability to bring the private sector together with charities to help underserved causes it s certainly a different landscape than it was when the foundation s work began, said carolyn miles, president and chief executive of save the children, one of the foundation s early partners i would say you have to come back as something slightly different in recent weeks, the foundation has completed a planned shutdown of the clinton global initiative, which hosted a annual meeting, and laying off most of the initiative s staff of about 100 foundation officials confirmed on thursday that two major programs, including one in haiti, would transfer',\n",
       " 'european union, donald trump, bernie sanders your friday evening briefing the new york times andrea kannapell and sandra stevenson \\\\ ( want to get this briefing by email \\\\? here s the \\\\ ) good evening here s the latest 1 markets shook, the pound and euro dropped, and european leaders called emergency meetings after britons unnerved the continent by voting to leave the european union exactly how the brexit will unfold is unclear, but prime minister david cameron said he was not the man to lead the country through it and will step down here s a short rundown of the basics 2 young people had made up one of the strongest blocs against leaving truly gutted that our grandparents have effectively decided that they hate foreigners more than they love us and our futures, one tweeted some britons appeared confused about what they had done google reported a spike in searches for what happens if we leave the e u \\\\? as well as what is the e u \\\\? thousands of readers posted comments one wrote i m british, but i m not sure what that means anymore 3 president obama said britain s special relationship with the u s would endure donald trump, whose political base voices the same kind of populist anger heard in britain, forecast benefits to british business he included his own scottish golf resort, which he happened to be visiting when the pound goes down, more people are coming to turnberry, frankly, he said 4 bernie sanders commands a fearsome digital army, adept in social media, that captured more than 200 million in donations now he appears to be ready to drop his candidacy and shift his focus i m going to do everything i can do to defeat donald trump, he told msnbc s morning joe including vote for hillary clinton 5 our movie reviewers have this to say about the this weekend s big openings independence day resurgence is a good bet only for those with an overwhelming love of swiss army man, with daniel radcliffe as a corpse who makes paul dano s life worth living, is weird and wonderful, disgusting and demented and free state of jones reconstructs a fascinating bit of civil war history, with matthew mcconaughey leading a guerrilla army of white deserters and escaped slaves against the confederacy 6 mementos of whitey bulger s gruesome career as a boston mobster went up for auction, five years after he was convicted of 11 murder charges there was his prized replica of a 1986 stanley cup championship ring and a cup that he used as a pencil holder the ring marked 1103 above is a sterling',\n",
       " 'why republicans are battling republicans on obamacare repeal the new york times jeremy w peters washington republicans are rarely as exercised as when they are fighting with themselves and as the house debates how to best dismantle the affordable care act, a familiar array of interest groups with deep pockets, incensed talk radio hosts and online agitators is again assuming its posture of aggression toward the house republican leadership swampcare, the writer and radio personality erick erickson scoffed at the new american health care act, the culmination of seven years of promises to repeal and replace president barack obama s signature domestic achievement obamacare 2 0, declared breitbart com rinocare, mark levin wrote on twitter, using the acronym for republican in name only political groups backed by the billionaire brothers charles and david koch and other powerful players on the right, such as club for growth and heritage action for america, have come out quickly and strongly against the bill some have threatened to punish lawmakers by docking their conservative ratings on the influential scorecards they distribute to voters activists are already swarming capitol hill and demanding that congress take a harder line and pass a repeal measure that would leave no trace of the affordable care act i feel lied to, said anna beavon gravely, the deputy state director of the north carolina chapter of americans for prosperity, a group that is funding a push against republicans in congress who want to stop short of an outright repeal we trusted you because you said you were going to do something about this and this is not it not even close, she added as she prepared to set out for the offices of north carolina lawmakers with other activists from her state the displeasure is forcing an uncomfortable reckoning in the republican party much earlier and in a much more disruptive way than many think is constructive and it has many conservatives asking why now that they control both houses of congress and the white house and have remained largely united so far they are picking a fight with each other the criticism from the right has grown so harsh that president trump asked leaders of several conservative groups in an oval office meeting on wednesday to tone it down he was especially troubled, one participant said, by the comparisons of the plan to obamacare lite, which he said was inaccurate and harmful to their shared cause of gutting the current law one senior white house official described the meeting as tough referring to the president, the official said he listened they vented after the meeting, the white house appeared more confident about the prospects in the house for the health care overhaul in a meeting with conservative leaders in the oval office on',\n",
       " 'mexico launches 50 m effort to help illegal aliens in u s bob price as the trump administration continues its efforts to round up criminal aliens, the mexican government is beginning a nationwide campaign in the u s to help protect migrants the campaign will be waged in all 50 mexican consulates across the u s it appears mexico does not want criminal aliens in the united states returned to their country what changes today is that we are prioritizing legal matters over everything previously, we did n t have the need to seek so much legal support for our people, miami s consul general antonio zabalgoitia told the associated press on friday but now, we need to protect them against an eventual deportation the trump administration, under the leadership of department of homeland security secretary john f kelly, is conducting targeted enforcement actions against criminal aliens across the u s one effort, carried out in february, landed nearly 700 criminal aliens in detention ice officials are processing those criminal aliens for removal ice conducts these kind of targeted enforcement operations regularly and has for many years, secretary kelly said in a written statement obtained by breitbart texas the focus of these enforcement operations is consistent with the routine, targeted arrests carried out by ice s fugitive operations teams on a daily basis to counter this effort, the mexican consulates are joining up with law schools, immigration clinics, and nonprofit organizations that specialize in helping foreign nationals the mexican government will place attorneys in these facilities to provide assistance to those facing deportation, the ap reported the consulates are also working with private law firms to provide assistance during a meeting at the new york consulate, mexican foreign minister luis videgaray called the effort a moral imperative it is something that we will continue to do by obligation and conviction, the foreign minister told the ap he expressed that the workload being faced by consulates is escalating rapidly i used to sign two birth certificates a week, he said only yesterday, i signed 15 videgaray previously stated mexico was allocating about 54 million to provide services to migrants living in the u s breitbart news reported the mexican consulate in houston described conditions facing migrants the tolerance is gone i think that s the best way of describing it, oscar solis, a first secretary of the mexican consulate in houston, told the ap it s like in wars they come for one person and many who are innocent or not really involved end up paying the mexican consulate in houston serves about 500, 000 mexican nationals who live in the area officials stated requests for mexican birth certificates have increased by 50 percent since the trump administration s crackdown',\n",
       " \"as crooked hillary investigation reopens, democrat cities push to allow illegal immigrants voting geoffrey grider as crooked hillary investigation reopens, democrat cities push to allow illegal immigrants voting'look at illegal immigrants voting all over the country,'donald trump recently claimed in a fox news interview, part of his ongoing effort to cast doubt on the integrity of the presidential election there s no evidence to support the republican nominee s claims of election fraud, but some cities are moving to expand voting rights to include noncitizens 29, 2016 some democrat run cities want their illegal alien population to vote editor s note yesterday, fbi director james comey announced that they have reopened the investigation into crooked hillary s illegal email server yay! but even before that, democrat operatives are working around the clock to skew the election results in any way they can today we present to you democrat run cities in america allowing illegal immigrants to vote in the upcoming election should illegal immigrant voting be legal \\\\? wha \\\\? \\\\? \\\\? look at illegal immigrants voting all over the country, donald trump recently claimed in a fox news interview, part of his ongoing effort to cast doubt on the integrity of the presidential election there s no evidence to support the republican nominee s claims of election fraud, but some cities are moving to expand voting rights to include non citizens \\\\ ( illegal immigrants \\\\ ) trump opposes same day voter registration to prevent illegal immigrants from voting the latest is san francisco, where the nov 8 ballot will include a measure allowing the parents or legal guardians of any student in the city s public schools to vote in school board elections the right would be extended to those with green cards, visas, or no documentation at all one out of three kids in the san francisco unified school system has a parent who is an immigrant, who is disenfranchised and does n t have a voice, says san francisco assemblyman david chiu, the son of taiwanese immigrants we ve had legal immigrants who ve had children go through the entire k 12 system without having a say undocumented immigrants should also have the right, chiu adds, to bypass the broken immigration system in this country should illegal immigrants be allowed to vote in us elections \\\\? today there are six jurisdictions in maryland that let non citizens \\\\ ( illegal immigrants \\\\ ) vote in local elections chicago allows them to take part in elected parent advisory councils but not to vote in school board elections four towns in massachusetts have moved to allow noncitizen voting and are awaiting state approval and in new york city, where non citizens \\\\ ( illegal\",\n",
       " 'a college application guide for gap year students the new york times kyle denuccio applying to college is onerous enough asking to defer enrollment for a year can be even more intimidating here s how to navigate the process delay freshman year, not your application students interested in a year off should still apply to college their senior year of high school, advises michele hern ndez, of top tier admissions and a former admissions officer at dartmouth it ensures that you ll have access to your school s resources and wo n t be bogged down with applications and standardized testing during a year that may include travel abroad you d be surprised how quickly your high school forgets you, dr hern ndez said it s really hard to go back and ask for teacher recommendations and the other materials you might need after a year has passed it s also a good idea to keep options open should plans suddenly change you might not get that internship or job you were counting on, or you might get into a college with even better options for a bridge year, like the international program at princeton or tufts 1 4 program, offering both national and international service opportunities harvard has long encouraged applicants to consider a year off, but that wo n t increase your chances of getting in while more and more institutions are seeing value in a gap year, it s better to inform them of your intentions after you ve been accepted it might work against you because admissions priority is filling that year, dr hern ndez said they do n t know what the next year is going to look like if your plans have merit education, work or service components they are likely to agree but, she said, depending on what you re going to do, a gap year can be viewed as slightly frivolous so that s why i say, get in first and then propose an idea if a college has no gap year program, write to the admissions director before deposits are due describe plans for the year ahead, and ask whether time off will affect any scholarships the school has offered for freshman year usa gap year fairs organizes events where students can hear about an array of programs and speak with professionals in the field 39 were held this winter a list of locations for 2018 will be published in the fall \\\\ ( usagapyearfairs org \\\\ ) the american gap association accredits independent programs that offer or learning experiences it maintains lists of the programs, which run a few weeks to a year, and their scholarships, as well as university policies on deferring enrollment \\\\ ( www americangap org \\\\ ) the association tracked 2',\n",
       " 'globally, orlando attack strikes now familiar fault lines the new york times jim yardley rome by monday morning, the grim, if now familiar, global ritual had begun leaders across europe, asia and elsewhere sent messages of sympathy and outrage editorialists opined against extremism and violence symbolic gestures another special lighting of the eiffel tower were announced solidarity hashtags circled the virtual globe the orlando attack now ranks as the deadliest mass shooting in united states history and the horrific slaughter early sunday at a gay nightclub has a uniquely american component, again demonstrating an easy access to assault weapons that stupefies much of the rest of the world but judging from the initial reaction, the attack in florida resonated globally on monday not as an american anomaly, but because it felt so universal orlando now takes a place with paris, brussels, beirut, bamako, san bernardino and other cities struck by different incarnations of terrorism in recent years candles were once lit in their honor, too the orlando attack is already stirring debate on some of the most visceral fault lines of american politics terrorism and islamophobia, security and civil liberties, gun control and gay rights but absent guns, those issues also resonate across the world, especially in many developed countries wrestling with how to maintain their freedoms in the face of violent attacks on their values in an interconnected world, what seemed most relevant was what bound together the satirists of charlie hebdo, the rock music fans at the bataclan, the tourists at the brussels airport and the young people dancing early sunday at the pulse nightclub in orlando not what divided them and their societies but that connectedness also meant that orlando quickly became politicized globally as well as in the united states one organization campaigning for britain to leave the european union in the june 23 national referendum posted a campaign message on twitter that showed islamic state fighters warning of an atrocity if britain remained in the european bloc the group deleted the message after the person who posted it was widely condemned for many gays, lesbians and transgender people, the orlando attack was a searing moment, highlighting the continued threats they face from an ideologically varied array of sources even as much of the world grows more inclusive about sexuality in london, owen jones, a liberal columnist who is gay, walked off the set of a sky news program after arguing with the host on how the orlando attack should be defined mr jones argued it was both a terrorist attack and an hate crime, while the program s host sought to make a distinction between the two this guy, however he dresses',\n",
       " 'after blast, new yorkers examine themselves for psychological shrapnel the new york times michael wilson, samantha schmidt and sarah maslin nir as detectives scoured every inch of the bomb scene in chelsea on sunday, new yorkers were conducting their own investigations but theirs were turned inward, as they felt around for the psychological shrapnel that an explosion on a busy city street is designed to release, as damaging in its way as the kind that tears into flesh a walk around manhattan revealed glimpses of these inquiries, quiet but as intense as those beneath the emergency klieg lights suzie shapiro got as close as she could to the scene on sunday it s less scary if you see it, she said, adding that she had done her best to explain the explosion to her two young children at home this is the reality of being a kid right now on an uptown subway on sunday, a group of singers performed just as they do every other day, but added as they left the train, be safe out there moments later, the f train bypassed the 23rd street station near the bomb scene due to a police investigation the conductor spoke in bored tones over the intercom, as if it were like any other incident from her apartment a block away from the explosion, the singer rosanne cash wrote on twitter we are safe and well appreciate the love concern and another neighbor nearby, graham mills, 52, seemed unsurprised it was only a matter of time, he said there s kind of this new york spirit that s like, whatever let s get on with life getting on with life in new york has been a work in progress for at least 15 years in 2010, a car bomb was found in a nissan pathfinder parked in times square, though it did not detonate the episode rattled the city even as residents spoke of the proverbial dodged bullet but the bullet is always out there, as saturday night reminded everyone no lives were lost had new york dodged another one \\\\? natalie wollen did not think so she said she did not want to leave her chelsea apartment all day on sunday, but did so to walk her dog i m still scared, she said, her lips quivering she had heard reports, which were later retracted, of a third bomb if there were three already, there could be another one, she said another dog walker, sipho simela, 31, stepped out into the day, but with a shrug, perhaps more appropriate to his age my wife was like, what are you going to do \\\\? he said and',\n",
       " 'la seguridad social procurar enfermos p blicos a las familias que carezcan de uno fernando costilla la seguridad social procurar enfermos p blicos a las familias que carezcan de uno sanidad quiere beneficiar a aquellas familias que no tienen a nadie de quien cuidar seguridad social la sanidad p blica procurar un enfermo a aquellas familias espa olas cuyos miembros gocen de plena salud el objetivo es combatir una situaci n desigual en la que algunas familias se hacen cargo de personas enfermas mientras que otras no disponen de ellas, en palabras de la ministra dolors montserrat, que ha dado as el pistoletazo de salida a su gesti n al frente de la cartera de sanidad en las pr ximas semanas, las familias que no cuenten con miembros afectados por una enfermedad que requiera hospitalizaci n recibir n una carta con el nombre, el centro hospitalario y la habitaci n donde se encuentra el enfermo que les ha sido asignado por sorteo, as como los d as y las horas de visita sugeridos aparte de ofrecer recursos a las familias espa olas que no tienen a nadie de quien cuidar, los servicios de salud, seg n la ministra, tambi n saldr n ganando porque alguien se ocupar de todos esos pacientes que se acumulan en los pasillos de los hospitales de todos modos, seg n ha insistido montserrat, el objetivo principal de la medida es ayudar a los ciudadanos que no pueden disfrutar del placer que se experimenta cuidando de alguien necesitado tras anunciarse este nuevo servicio, el gobierno de la comunidad de madrid, encabezado por cristina cifuentes, ha prometi',\n",
       " 'cities vow to fight trump on immigration, even if they lose millions the new york times jennifer medina and jess bidgood los angeles here in los angeles, where nearly half of the city s residents are latino, mayor eric garcetti has vowed to do everything he can to fight widespread deportations of illegal immigrants in new york, with a large and diverse latino population, mayor bill de blasio has pledged not to cooperate with immigration agents and mayor rahm emanuel of chicago has declared that it will always be a sanctuary city across the nation, officials in sanctuary cities are gearing up to oppose donald j trump if he follows through on a campaign promise to deport millions of illegal immigrants they are promising to maintain their policies of limiting local law enforcement cooperation with federal immigration agents in doing so, municipal officials risk losing millions of dollars in federal assistance for their cities that helps pay for services like fighting crime and running homeless shelters mr trump has vowed to block all federal funding for cities where local law enforcement agencies do not cooperate with immigration and customs enforcement agents but as mr trump prepares to take office, democratic bastions, including boston, philadelphia and san francisco, have reaffirmed plans to defy the administration and act as a kind of bulwark against mass deportations i like to compare this to conscientious objector status, said mayor libby schaaf of oakland, calif we are not going to use our resources to enforce what we believe are unjust immigration laws supporters of tougher immigration policies, however, expect a swift response dan stein, the president of the federation for american immigration reform, which opposes legalization for unauthorized immigrants, predicted a very aggressive, support for using the full power of the federal government to discourage this kind of interference these local politicians take it upon themselves to allow people who have been here for a long time to stay here and receive services, mr stein said the trump administration is basically saying, if you want to accommodate, do n t expect the rest of us to pay for your services some believe mr trump could go further than simply pulling federal funding, perhaps fighting such policies in court or even prosecuting city leaders this is uncharted territory in some ways, to see if they re just playing chicken, or see if they will relent, said jessica vaughan, the director of policy studies at the center for immigration studies, which supports reduced immigration cities have gotten away with this for a long time because the federal government has never attempted to crack down on them, ms vaughan said the fight could also signal a twist in the',\n",
       " \"dnc renews lawsuit against rnc over voter intimidation \\\\ ( video \\\\ ) lisa bonanno dnc renews lawsuit against rnc over voter intimidation \\\\ ( video \\\\ ) by lisa bonanno on october 29, 2016 according to a document filed in federal court this past wednesday, the democratic national committee is taking donald trump and the republican national committee to task over their plans to monitor the polls the filing says that the rnc is violating a consent decree by supporting and enabling the efforts of the republican candidate for president, donald j trump, as well as his campaign and advisors, to intimidate and discourage minority voters from voting in the 2016 presidential election trump has falsely and repeatedly told his supporters that the november 8 election will be rigged based upon fabricated claims of voter fraud in certain areas or certain sections of key states unsurprisingly, those certain areas are exclusively communities in which large minority voting populations reside the document goes on to name some of the specific quotes and directives that donald trump has given supporters it also mentions that following the third presidential debate, trump s campaign manager told a reporter that the campaign was working to combat purported voter fraud by actively working with the national committee, the official party, and campaign lawyers to monitor precincts around the country'this shows that the rnc is involved in this effort, which has already begun trump ally roger stone organized vote protectors, who are instructed to conduct exit polls initially, the volunteers were asked to upload video of voters, create id badges and wear red shirts at specific polling places after journalistic inquiry, stone said he would change his tactics he simply created a new website, but that s another story the democratic national committee is going after trump and the rnc for violation of a consent decree signed in 1982 at that time, the rnc was involved in voter suppression in targeted areas known to vote predominantly democrat they hired off duty sheriffs and police officers to go to polling places in those areas displaying a sign stating this area is being patrolled by the national ballot security task force there were other activities, such as the challenge of individual voter registrations in certain communities the consent decree forcing the rnc to cease its 1982 ballot security activities resulted from a successful dnc suit the decree expires next year in the current suit, the dnc seeks to renew it for another eight years 34 years later, we have an old tactic re branded by the same party to do the same thing intimidate minority voters the dnc opens fire against rnc voter intimidation tactics featured image via screenshot\",\n",
       " 'visions of snowflakes dance in bill o reilly s head in old school the new york times janet maslin the fox news host bill o reilly finds many ways to congratulate the readers of his new book, old school, for their wisdom written with bruce feirstein, old school is meant to set forth the code of decency, honor and determination that made o reilly what he is today the lack of these virtues, the book argues, has created whiners, tweeters, helicopter parents, employees who do n t use briefcases and worse all these miscreants are labeled snowflakes, though that s getting rusty a new epithet would have been nice the trouble is that old distinctions are not that clear sometimes old school is just old and if you re old school you still bend over to pick up a penny, you put everything away in the kitchen before you go to bed at night does n t being old school also require you to write your own book about your principles \\\\? o reilly has written half a book he relies heavily on the over to you, feirstein segue for the rest more trouble did these two ever decide what snowflake was supposed to mean \\\\? it s an knock that they use for spinelessness, stupidity, political correctness and reillyian political leanings they ve left it so vague that one of o reilly s definitions might get him into trouble with one of his most outspoken friends we all know snowflakes, he writes, the people who blame everyone else for their failures, who look to others to solve their problems, who are sooooo sensitive to every slight that puts a snowflake in chief in the oval office this is an especially inopportune moment for o reilly to be lecturing anybody about morals old school hits the top of the new york times nonfiction list just as his popular tv show, the o reilly factor, is hemorrhaging sponsors because women at fox, angered by what they deemed o reilly s predatory behavior, took his advice \\\\ ( never let anyone treat you badly that s old school \\\\ ) o reilly s recent series of steroidal history books written with martin dugard, starting with killing lincoln in 2011, is popular for much better reasons those books are compressed, not padded in the way old school is they boil big stories down to the good parts, treating accuracy as no obstacle and they do n t play off the toxic atmosphere that has prevailed since the start of the 2016 election cycle it s astounding that old school, a',\n",
       " 'what would happen if the u s was nuked \\\\? ev ever wonder what would happen if the u s was nuked \\\\? while there are numerous factors to take into consideration in the event of a nuclear war on u s soil, we ve done our best to answer some of the most commonly asked questions, in the simplest and most understandable of terms which areas would be hit, and how far would the fallout reach \\\\? on the topic of which regions of the u s would be hit part of it is left up to guess work, as we are unable to fully predict the aggressing nation s tactics, but then much of it is also based on logic for example, any nation that strikes the u s will want to disable their nukes, so we can easily surmise that areas such as north dakota would be obliterated active nuclear energy plants would also make good targets, as the added nuclear energy from the reactors would maximize destruction and then of course, there are the major government facilities that would be targeted, at least, those that are known of unfortunately, it s safe to assume an aggressing nation s intelligence would have a better idea of the u s government s soft spots than the average american citizen before we get too far ahead of ourselves, however, let s go with what we know what kind of targets would the u s go for \\\\? in the case of hiroshima and nagasaki, numerous military personnel, politicians, and now historians claim that the first bomb was dropped to prove it could be done, and the second bomb was dropped to display the united states strength to joseph stalin in the soviet union, who was originally aligned with the u s and britain during wwii, but who the u s knew would become a problem once the war was over, \\\\ ( foner, 2014, p 887 949 \\\\ ) while we are aware there are numerous citizens who, to this day, refuse to believe any other version of events than the original government narrative, the point is, we ca n t use the cases of hiroshima and nagasaki as an accurate indicator of the type of targets the u s would choose fortunately though, we do have a detailed list of targets the u s created in 1956 in the event of war with the soviet union that was released through the national archives and records administration the list includes major cities for systematic destruction, including areas that contain agricultural equipment and transformers, heavy most horridly though, was a target simply titled population yep the almighty, all wise, glorious, wholesome and righteous',\n",
       " 'nikki haley leads walkout on un nuclear weapons ban meeting breitbart frances martel american ambassador to the united nations nikki haley announced monday that her country and a list of nearly forty others would not participate in a meeting to pass an international nuclear weapons ban, calling the proposal naive and warning that bad actors like north korea would take advantage of it haley s opposition to a global nuclear weapons ban which she argues only responsible nations would follow, leaving them vulnerable to attack from rogue states follows multiple calls from the trump administration to modernize the american nuclear weapons arsenal you are going to see almost 40 countries that are not in the general assembly today, haley told reporters on monday to ban nuclear weapons now would make us and our allies more vulnerable, and would strengthen bad actors like north korea and iran who would not abide by it there is nothing i want more for my family than a world with no nuclear weapons but we have to be realistic, haley continued is there anyone that believes that north korea would agree to a ban on nuclear weapons \\\\? in this day and time we ca n t honestly that say we can protect our people by allowing the bad actors to have them nuclear weapons and those of us that are good, trying to keep peace and safety, not to have them, haley argued she argued that those supporting the nuclear weapons ban did not understand the potential negative effect disarming responsible international actors would have and argued that north korea and iran would both be cheering if such a nuclear weapons ban passed the international resolution haley opposes is the product of the un general assembly, which passed the legislation in december calling for the member nations to negotiate a legally binding instrument to prohibit nuclear weapons, leading towards their total elimination, according to reuters haley argues that such legislation would disarm responsible nations and remove a necessary deterrent for rogue nations who have since acquired some nuclear capabilities instead, haley argued, the un should adhere to the nuclear treaty signed in 1968 that treaty conceded that five nations would retain their nuclear weapons the five member nations of the un security council while aspiring to contain the spread of nuclear weapons the treaty does not address nations that have since acquired nuclear weapons, however, like india and pakistan, and rogue nations like iran and north korea north korea, the independent notes, was a signatory to the treaty until 2003 and has since conducted five nuclear tests the forty countries opposing the proposed nuclear weapons ban including the uk and france, among others stand in opposition to over one hundred countries that have expressed support for the ban international influencers like pope francis have also stated their support for the',\n",
       " 'trump on israel there s a big beautiful difference between my administration and obama s deborah danan jerusalem in his speech at the israel museum in jerusalem, president donald trump noted the big beautiful difference between his administration s relationship with the jewish state and the previous administration, and reiterated his promise that iran would not be allowed to obtain a nuclear weapon there were, however, no major overtures such the much speculated transfer of the u s embassy from tel aviv to jerusalem still, trump s speech was lauded by israeli politicians here as one of the most friendly toward israel from any u s president, and he used the speech to affirm the jewish bond to jerusalem and the land of israel trump declared that both the israeli and palestinian leaders were ready for peace, and that with determination, compromise and the belief that peace is possible, israelis and palestinians can make a deal trump spoke in the highest terms of jerusalem, israel and the jewish people i am honored to be in the ancient city of jerusalem to address the israeli people and all people in the middle east who yearn for security, prosperity and peace, he said jerusalem is a sacred city its beauty, splendor and heritage are like no other place on earth what a heritage, what a heritage the ties of the jewish people to this holy land are ancient and eternal they date back thousands of years, including the reign of kind david, whose star now flies proudly on israel s blue and white flag israel is testament to the unbreakable spirit of the jewish people, he continued from all parts of this great country, one message resounds, and that is the message of hope down through the ages, the jewish people have suffered persecution, oppression, and others have sought their destruction, he said i make this promise to you my administration will always stand with israel this remark was met with a lingering round of applause and another handshake from prime minister benjamin netanyahu trump continued america s security partnership with israel is stronger than ever under my administration, you see the difference big, big beautiful difference including the iron dome missile defense program, which has been keeping the israeli people safe from rockets launched by hezbollah and hamas, and david s sling, which guards against long range missiles after reiterating his commitment to driving out terror, the president referred to attacks committed on israeli civilians israelis have experienced firsthand the hatred and terror of radical violence israelis are murdered by terrorists wielding knives and bombs hamas and hezbollah launch rockets into israeli communities where schoolchildren have to be trained to hear the sirens and to run to the bomb shelters with fear but',\n",
       " 'anonymous there is the guy who can leaf trump to the whitehouse, imagine the shock everything he says is true and is nt it strnge how the swiss fund all the wars and get away with it including hitler if trump was ever after someone to trust he would be 1st choice and he knows his way around imagine how much money theu have ripped off that justice dept is as crooked as can be trump was right about hillary and isis so much for the liberty party who has been higjacked by the looks of it and where is the army \\\\? \\\\? i think its what oath \\\\? \\\\? all these people who did nothing are guilty of complicity in terror by their own laws truth should be rewarded not punished or you end up like the world is now as corrupt as can be, notice drudge wo nt even show this',\n",
       " 'georgia father is convicted of murder in toddler s death in hot car the new york times alan blinder atlanta with local television programming interrupted and a camera trained on the defendant s emotionless face, an father was convicted of murder on monday for causing the death of his young son by deliberately leaving him in a hot car more than two years ago a jury in southeast georgia, where the case was tried because of intense pretrial publicity here, returned guilty verdicts against the man, justin ross harris, 35, on eight counts, including malice murder and cruelty to children mr harris, who sometimes glanced downward as the verdict was read in brunswick, could be sentenced to life in prison for the death of his son, cooper the verdict, announced on the jury s fourth day of deliberations, ended the suspense of a trial that began on oct 3, and it capped nearly 29 months of sordid allegations and scrambled loyalties the cause of cooper s death was undisputed mr harris left him in a hyundai tucson while he worked as a software engineer at home depot on june 18, 2014 but it fell to jurors to decide whether he had been malicious or merely the manner of cooper s death is a heartbreakingly familiar one at least 39 children in the united states have died of vehicular heatstroke this year, according to statistics compiled by a san jose state university researcher but the case against mr harris was striking because of the severity of the charges and the state s argument that he was eager to end his responsibilities to his family this killer s heart abandoned this child long before he died, charles p boring, an assistant district attorney, said during his closing argument this defendant s heart abandoned this child when he left him to die a terrible death in that car in a statement after the verdict, the district attorney s office noted a message that mr harris sent minutes before he left his vehicle, cooper still in his car seat i love my son and all, but we both need escapes but near the end of a trial in which mr harris was vilified as a man with a compromised marriage, one of his lawyers, h maddox kilgore, argued that moral failings did not make a motive for murder there is no evidence of any kind of hatred or bad feelings or anger, mr kilgore said whatever term you want to come up with, any term you come up with, there s no evidence that ross expressed that toward his son in the end, mr harris was convicted on all eight counts for which he was indicted three',\n",
       " 'how gretchen carlson took on the chief of fox news the new york times john koblin on june 21, gretchen carlson devoted the closing minutes of her afternoon fox news show, the real story with gretchen carlson, to discussion of a milestone she turned 50 that day i know, normally folks on tv would n t readily admit their age, but since there s nothing you can do about it, you might as well own it and be happy, she said with a laugh and, boy, do i have so much to be grateful for two days later, she was summoned to a postshow meeting with a fox news executive and told that, after 11 years at the network, her contract was not being renewed the meeting took less than a minute, according to her lawyer, nancy erika smith on wednesday, ms carlson sent shock waves through the media world when she filed a lawsuit against the powerful fox news chairman roger ailes, accusing him, among other things, of sexual harassment and sexism the news channel s parent company, 21st century fox, said that it was conducting an internal review of the matter mr ailes denied the charges, and said that the disappointingly low ratings for ms carlson s show was the reason she was let go when fox news did not commence any negotiations to renew her contract, ms carlson became aware that her career with the network was likely over and conveniently began to pursue a lawsuit, he said in a statement though a prominent personality at fox for many years, ms carlson does not have the star power at the network of megyn kelly or bill o reilly but within minutes of the lawsuit going public, ms carlson became a person of enormous interest in the world of television news ms carlson grew up in anoka, minn where the future congresswoman michele bachmann was one of her childhood nannies she attended stanford university, studying organizational behavior, though she did spend a year abroad at oxford university focusing on the work of virginia woolf, ms smith said before her senior year, she became a contestant in the miss america beauty pageant, which she won in 1988 a trained violinist, ms carlson was proud of her achievement, saying her victory proved the pageant was as interested in a contestant s intelligence as her looks it shows that i m not a bimbo, that i do have intelligence and that i do represent what every woman wants to be in this society, which is a career woman, and be respected for her intelligence, she said in january 1989 after graduating from stanford, she worked for several local tv stations before becoming the host of the saturday edition',\n",
       " 'rep pete roskam post ryancare, congress must still fix obamacare s flaws breitbart neil w mccabe illnois republican rep peter roskam told chicago s that he supported the american health care act crafted by speaker paul ryan \\\\ ( \\\\ ) as a necessary fix of the 2010 patient protection and affordable care act, obamacare it was an improvement as to where we are now, he said told the station there is a restlessness among the people in his district about obamacare and what will be done with it, he said the congressman said during the battle over the ryancare bill, he heard from constituents who have been hurt by obamacare and people helped by obamacare in the final bill, roskam said he received assurances in writing that illinois would not lose medicaid protections he said he was comfortable with concessions given to the house freedom caucus, including modifying the essential health benefits those items required for all policies so that the ehb s were determined the states my view was that on balance, this bill was a step forward, he said friday was a big disappointment because the bill got pulled, because there was not a lot of support for it so moving forward, there was this notion that this was the healthcare debate, and i do n t believe that is true for a second, he said one of the reasons the bill did not pass was that the speaker crafted the bill to meet the requirements of the senate s rules governing budget bills, he said it is so complicated and so difficult to understand that nobody even hardly understands what you are talking about, roskam said the better move in the past would have been to pass out of the house even though it s not going to move in the senate the actual proposal what is it you are for \\\\? not with limitations, what are the aspirations \\\\? roskam said he is convinced that in the coming weeks, there will be a serious move to reengage the house republicans about reforming national healthcare policy we ca n t stay here, he said the next move should be to go back to the two things every american agreed about when president barack obama first started the obamacare debate, he said first, health care is too expensive and many of the cost drivers are not making us any healthier, he said second, it bothered everyone that americans with conditions did not have access to insurance coverage if the obama administration had focused on those two core things, we would be having a very different conversation about health care today, he said',\n",
       " 'simone biles, michael phelps, u s presidential race your thursday evening briefing the new york times andrea kannapell and sandra stevenson \\\\ ( want to get this briefing by email \\\\? here s the \\\\ ) good evening here s the latest 1 it s official simone biles, the gymnast some call the best in history, was crowned the gymnastics champion at the rio olympics her teammate aly raisman came in second here s a of two of biles s signature moves with a win in the individual medley, michael phelps earned his thirteenth individual gold medal, surpassing leonidas of rhodes, who won 12 gold medals in the ancient olympics another achievement for the books simone manuel became the first woman to win an individual event in olympic swimming our full coverage of the games is here including the odd version of the u s national anthem being played at medal ceremonies 2 hillary clinton rejected the economic agenda donald trump laid out this week, calling him an enemy of the little guy he wants to give trillions in tax cuts to people like himself, she said, while deepening the financial pain of the middle and working classes neither candidate, however, has said much about helping people who are not working many of them living in abject poverty 3 mr trump faced down critics of his unorthodox campaign style, telling an interviewer, it s either going to work or i m going to, you know, i m going to have a very, very nice long vacation after weeks of hearing detractors saying a trump presidency would be a grave threat to national security, mr trump has begun portraying mrs clinton and president obama as of the islamic state he held a rally in kissimmee, fla in the evening 4 the f b i has widened its investigation into what officials believe was a russian cyberattack directed against the democratic party the attack appears to have been far larger than first thought, raising the possibility of more damaging disclosures like the emails published recently by wikileaks after a impasse that has kept the wikileaks founder, julian assange, holed up in the ecuadorean embassy in london, sweden has agreed to question him there over rape accusations 5 almost 55 miles a gallon that s what u s regulators say automakers fleets must average by 2025 engineers, racing to meet the mark, are working with new batteries for hybrids some cars are going on a superglue diet adhesives, like the one being used on the gmc acadia above, can stiffen seams and allow components to be made of thinner steel',\n",
       " 'they said what \\\\?! find out what miles teller, kelly slater, and meghan markle have to say nan email ever wonder what s on the mind of today s most notable people \\\\? well, do n t miss our unbelievable roundup of the best and most talked about quotes of the day emails are pretty much the only way to communicate these days talking is over with the second my grandma opens up her mouth to wish me a happy birthday, i tell her send it in an email miles teller on email waves should be so big that only godzilla could surf on them he should be world champion, and surfers should call him their friend the world s big surf competition should be called godzilla grand prix kelly slater on surfing prince harry did n t want someone dating him just because he s a prince, so for the first few months i was seeing him, he wore a sack over his head and spoke in a low hiss, saying only, i am not a prince finally he pulled off the sack and said, i am actually a prince! i tried to act surprised, but honestly i d smelled that he was a prince the moment i d met him meghan markle',\n",
       " 'trump signs executive order unwinding obama climate policies the new york times coral davenport and alissa j rubin washington president trump, flanked by company executives and miners, signed a executive order on tuesday to nullify president barack obama s climate change efforts and revive the coal industry, effectively ceding american leadership in the international campaign to curb the dangerous heating of the planet mr trump made clear that the united states had no intention of meeting the commitments that his predecessor had made to curb carbon dioxide pollution, turning denials of climate change into national policy at a ceremony, mr trump directed the environmental protection agency to start the complex and lengthy legal process of withdrawing and rewriting the clean power plan, which would have closed hundreds of power plants, frozen construction of new plants and replaced them with vast new wind and solar farms c mon, fellas you know what this is \\\\? you know what this says \\\\? mr trump said to the miners you re going back to work throughout the presidential campaign, mr trump vowed to roll back mr obama s major climate change policies, a set of ambitious e p a regulations to curb greenhouse pollution from power plants he made clear that american leadership in the global campaign against climate change would take a back seat to his commitment to energy industry jobs with his order to move forward with the rollback, climate diplomats around the world maneuvered to fill the vacuum left by the exit of the globe s climate polluter there are countless countries ready to step up and deliver on their climate promises and take advantages of mr trump s to reap the benefits of the transition to the economy, said laurence tubiana, the chief french negotiator of the 2015 paris agreement, the landmark accord that committed nearly every country to take action to reduce emissions over all, the goal of the paris deal is to keep the planet from warming more than 3 6 degrees, the point at which scientists say the earth will be irrevocably locked into a future of severe droughts, floods, rising sea levels and food shortages mr obama pledged that the united states would cut its emissions about 26 percent from 2005 levels by 2025 carrying out the clean power plan was essential to meeting that target this is not the time for any country to change course on the very serious and very real threat of climate change, said erik solheim, executive director of the united nations environment program the science tells us that we need bolder, more ambitious commitments mr trump has not yet decided whether to formally withdraw from the paris agreement but by rolling back the policies needed to meet american commitments, the united']"
      ]
     },
     "execution_count": 19,
     "metadata": {},
     "output_type": "execute_result"
    }
   ],
   "source": [
    "[config.tokenizer.decode(token, skip_special_tokens=True, clean_up_tokenization_spaces=True) for token in data['ids']]"
   ]
  },
  {
   "cell_type": "code",
   "execution_count": null,
   "id": "db45dcd4",
   "metadata": {},
   "outputs": [],
   "source": []
  }
 ],
 "metadata": {
  "kernelspec": {
   "display_name": "Python 3 (ipykernel)",
   "language": "python",
   "name": "python3"
  },
  "language_info": {
   "codemirror_mode": {
    "name": "ipython",
    "version": 3
   },
   "file_extension": ".py",
   "mimetype": "text/x-python",
   "name": "python",
   "nbconvert_exporter": "python",
   "pygments_lexer": "ipython3",
   "version": "3.9.7"
  }
 },
 "nbformat": 4,
 "nbformat_minor": 5
}
