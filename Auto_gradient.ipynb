{
 "cells": [
  {
   "cell_type": "code",
   "execution_count": 1,
   "metadata": {},
   "outputs": [],
   "source": [
    "import torch\n",
    "from torch.autograd import Variable"
   ]
  },
  {
   "cell_type": "code",
   "execution_count": 3,
   "metadata": {},
   "outputs": [],
   "source": [
    "x = Variable(torch.randn(3, 4), requires_grad=True)\n",
    "y = Variable(torch.randn(3, 4), requires_grad=True)\n",
    "z = Variable(torch.randn(3, 4), requires_grad=True)"
   ]
  },
  {
   "cell_type": "code",
   "execution_count": 4,
   "metadata": {},
   "outputs": [
    {
     "data": {
      "text/plain": [
       "(tensor([[-0.7740, -0.3119,  0.6874, -0.9620],\n",
       "         [-2.9355,  0.5553,  0.0221, -0.1339],\n",
       "         [ 0.0300, -0.8514, -0.4168, -0.5246]], requires_grad=True),\n",
       " tensor([[ 1.4918, -1.3058, -1.5009,  0.2380],\n",
       "         [-0.9379, -1.9401, -0.4666, -0.9774],\n",
       "         [ 0.7192,  0.1488,  0.7834, -0.8828]], requires_grad=True),\n",
       " tensor([[ 0.1495, -0.6908, -0.7982,  0.8526],\n",
       "         [ 0.0421, -0.1437,  0.0883,  0.4363],\n",
       "         [ 0.5104, -0.7456,  0.8341, -0.8168]], requires_grad=True))"
      ]
     },
     "execution_count": 4,
     "metadata": {},
     "output_type": "execute_result"
    }
   ],
   "source": [
    "x, y, z"
   ]
  },
  {
   "cell_type": "code",
   "execution_count": 5,
   "metadata": {},
   "outputs": [
    {
     "data": {
      "text/plain": [
       "tensor([[-1.1547,  0.4073, -1.0318, -0.2290],\n",
       "        [ 2.7531, -1.0773, -0.0103,  0.1308],\n",
       "        [ 0.0216, -0.1267, -0.3265,  0.4631]], grad_fn=<MulBackward0>)"
      ]
     },
     "execution_count": 5,
     "metadata": {},
     "output_type": "execute_result"
    }
   ],
   "source": [
    "a = x * y\n",
    "a"
   ]
  },
  {
   "cell_type": "code",
   "execution_count": 6,
   "metadata": {},
   "outputs": [
    {
     "data": {
      "text/plain": [
       "tensor([[-1.0051, -0.2834, -1.8299,  0.6237],\n",
       "        [ 2.7952, -1.2210,  0.0780,  0.5671],\n",
       "        [ 0.5320, -0.8723,  0.5076, -0.3537]], grad_fn=<AddBackward0>)"
      ]
     },
     "execution_count": 6,
     "metadata": {},
     "output_type": "execute_result"
    }
   ],
   "source": [
    "b = a + z\n",
    "b"
   ]
  },
  {
   "cell_type": "code",
   "execution_count": 8,
   "metadata": {},
   "outputs": [
    {
     "data": {
      "text/plain": [
       "tensor(-0.4618, grad_fn=<SumBackward0>)"
      ]
     },
     "execution_count": 8,
     "metadata": {},
     "output_type": "execute_result"
    }
   ],
   "source": [
    "c = torch.sum(b)\n",
    "c"
   ]
  },
  {
   "cell_type": "code",
   "execution_count": 9,
   "metadata": {},
   "outputs": [],
   "source": [
    "c.backward()"
   ]
  },
  {
   "cell_type": "code",
   "execution_count": 13,
   "metadata": {},
   "outputs": [
    {
     "data": {
      "text/plain": [
       "tensor([[-0.7740, -0.3119,  0.6874, -0.9620],\n",
       "        [-2.9355,  0.5553,  0.0221, -0.1339],\n",
       "        [ 0.0300, -0.8514, -0.4168, -0.5246]], requires_grad=True)"
      ]
     },
     "execution_count": 13,
     "metadata": {},
     "output_type": "execute_result"
    }
   ],
   "source": [
    "x"
   ]
  },
  {
   "cell_type": "code",
   "execution_count": 12,
   "metadata": {},
   "outputs": [
    {
     "data": {
      "text/plain": [
       "tensor([[ 1.4918, -1.3058, -1.5009,  0.2380],\n",
       "        [-0.9379, -1.9401, -0.4666, -0.9774],\n",
       "        [ 0.7192,  0.1488,  0.7834, -0.8828]])"
      ]
     },
     "execution_count": 12,
     "metadata": {},
     "output_type": "execute_result"
    }
   ],
   "source": [
    "x.grad"
   ]
  },
  {
   "cell_type": "code",
   "execution_count": 11,
   "metadata": {},
   "outputs": [
    {
     "data": {
      "text/plain": [
       "tensor([[ 1.4918, -1.3058, -1.5009,  0.2380],\n",
       "        [-0.9379, -1.9401, -0.4666, -0.9774],\n",
       "        [ 0.7192,  0.1488,  0.7834, -0.8828]])"
      ]
     },
     "execution_count": 11,
     "metadata": {},
     "output_type": "execute_result"
    }
   ],
   "source": [
    "x.grad.data"
   ]
  },
  {
   "cell_type": "code",
   "execution_count": 14,
   "metadata": {},
   "outputs": [
    {
     "data": {
      "text/plain": [
       "tensor([[-0.7740, -0.3119,  0.6874, -0.9620],\n",
       "        [-2.9355,  0.5553,  0.0221, -0.1339],\n",
       "        [ 0.0300, -0.8514, -0.4168, -0.5246]])"
      ]
     },
     "execution_count": 14,
     "metadata": {},
     "output_type": "execute_result"
    }
   ],
   "source": [
    "y.grad"
   ]
  },
  {
   "cell_type": "code",
   "execution_count": 15,
   "metadata": {},
   "outputs": [
    {
     "data": {
      "text/plain": [
       "tensor([[1., 1., 1., 1.],\n",
       "        [1., 1., 1., 1.],\n",
       "        [1., 1., 1., 1.]])"
      ]
     },
     "execution_count": 15,
     "metadata": {},
     "output_type": "execute_result"
    }
   ],
   "source": [
    "z.grad"
   ]
  }
 ],
 "metadata": {
  "kernelspec": {
   "display_name": "Python 3",
   "language": "python",
   "name": "python3"
  },
  "language_info": {
   "codemirror_mode": {
    "name": "ipython",
    "version": 3
   },
   "file_extension": ".py",
   "mimetype": "text/x-python",
   "name": "python",
   "nbconvert_exporter": "python",
   "pygments_lexer": "ipython3",
   "version": "3.8.2"
  }
 },
 "nbformat": 4,
 "nbformat_minor": 4
}
