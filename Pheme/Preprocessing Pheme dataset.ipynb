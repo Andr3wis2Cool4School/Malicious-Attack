{
 "cells": [
  {
   "cell_type": "markdown",
   "id": "8ffaf55f",
   "metadata": {},
   "source": [
    "# Pheme dataset\n",
    "\n",
    "Let's first see what kinds of events inside the Pheme dataset.\n",
    "\n",
    "Note that we have a .DS_Store, we need to drop that."
   ]
  },
  {
   "cell_type": "code",
   "execution_count": 1,
   "id": "263fc618",
   "metadata": {},
   "outputs": [
    {
     "name": "stdout",
     "output_type": "stream",
     "text": [
      "Preprocessing Pheme dataset.ipynb  convert_veracity_annotations.py\r\n",
      "\u001b[1m\u001b[36mall-rnr-annotated-threads\u001b[m\u001b[m/\r\n"
     ]
    }
   ],
   "source": [
    "ls"
   ]
  },
  {
   "cell_type": "code",
   "execution_count": 4,
   "id": "3456342a",
   "metadata": {},
   "outputs": [
    {
     "name": "stdout",
     "output_type": "stream",
     "text": [
      "['germanwings-crash-all-rnr-threads', 'prince-toronto-all-rnr-threads', 'ebola-essien-all-rnr-threads', 'ferguson-all-rnr-threads', 'charliehebdo-all-rnr-threads', 'putinmissing-all-rnr-threads', 'ottawashooting-all-rnr-threads', 'sydneysiege-all-rnr-threads', 'gurlitt-all-rnr-threads']\n"
     ]
    }
   ],
   "source": [
    "import os\n",
    "\n",
    "dirs = []\n",
    "for dirt in os.listdir('all-rnr-annotated-threads'):\n",
    "    if dirt != '.DS_Store':\n",
    "        dirs.append(dirt)\n",
    "\n",
    "print(dirs)"
   ]
  },
  {
   "cell_type": "markdown",
   "id": "8e0e10d2",
   "metadata": {},
   "source": [
    "The sturcture of one event is like below:\n",
    "\n",
    "- non-rumours\n",
    "- rumours\n",
    "- .DS_Store\n",
    "\n",
    "Try to use one first, and next is just a bigger `for` loop."
   ]
  },
  {
   "cell_type": "code",
   "execution_count": 5,
   "id": "e27a9480",
   "metadata": {},
   "outputs": [
    {
     "data": {
      "text/plain": [
       "'germanwings-crash-all-rnr-threads'"
      ]
     },
     "execution_count": 5,
     "metadata": {},
     "output_type": "execute_result"
    }
   ],
   "source": [
    "# use \n",
    "dirs[0]"
   ]
  },
  {
   "cell_type": "code",
   "execution_count": 48,
   "id": "ce797644",
   "metadata": {},
   "outputs": [
    {
     "data": {
      "text/plain": [
       "['dsada']"
      ]
     },
     "execution_count": 48,
     "metadata": {},
     "output_type": "execute_result"
    }
   ],
   "source": [
    "a = []\n",
    "a.append('dsada')\n",
    "a"
   ]
  },
  {
   "cell_type": "code",
   "execution_count": 49,
   "id": "7b61471d",
   "metadata": {},
   "outputs": [],
   "source": [
    "import json\n",
    "import pandas as pd"
   ]
  },
  {
   "cell_type": "code",
   "execution_count": 63,
   "id": "7380ff41",
   "metadata": {
    "scrolled": false
   },
   "outputs": [
    {
     "data": {
      "text/html": [
       "<div>\n",
       "<style scoped>\n",
       "    .dataframe tbody tr th:only-of-type {\n",
       "        vertical-align: middle;\n",
       "    }\n",
       "\n",
       "    .dataframe tbody tr th {\n",
       "        vertical-align: top;\n",
       "    }\n",
       "\n",
       "    .dataframe thead th {\n",
       "        text-align: right;\n",
       "    }\n",
       "</style>\n",
       "<table border=\"1\" class=\"dataframe\">\n",
       "  <thead>\n",
       "    <tr style=\"text-align: right;\">\n",
       "      <th></th>\n",
       "      <th>Text</th>\n",
       "      <th>Label</th>\n",
       "    </tr>\n",
       "  </thead>\n",
       "  <tbody>\n",
       "    <tr>\n",
       "      <th>0</th>\n",
       "      <td>#BREAKING: A Germanwings Airbus A320 has crash...</td>\n",
       "      <td>rumours</td>\n",
       "    </tr>\n",
       "    <tr>\n",
       "      <th>1</th>\n",
       "      <td>Updated numbers @AP: BREAKING: #Germanwings CE...</td>\n",
       "      <td>rumours</td>\n",
       "    </tr>\n",
       "    <tr>\n",
       "      <th>2</th>\n",
       "      <td>@YanniKouts @germanwings @flightradar24 A bit ...</td>\n",
       "      <td>rumours</td>\n",
       "    </tr>\n",
       "    <tr>\n",
       "      <th>3</th>\n",
       "      <td>#Germanwings co-pilot suffered serious depress...</td>\n",
       "      <td>rumours</td>\n",
       "    </tr>\n",
       "    <tr>\n",
       "      <th>4</th>\n",
       "      <td>@ThisIsGaZa إِنَّا لِلّهِ وَإِنَّـا إِلَيْهِ ر...</td>\n",
       "      <td>rumours</td>\n",
       "    </tr>\n",
       "    <tr>\n",
       "      <th>...</th>\n",
       "      <td>...</td>\n",
       "      <td>...</td>\n",
       "    </tr>\n",
       "    <tr>\n",
       "      <th>6420</th>\n",
       "      <td>Franz Marc: Horses... Update-#Gurlitt Nazi-Tai...</td>\n",
       "      <td>non-rumours</td>\n",
       "    </tr>\n",
       "    <tr>\n",
       "      <th>6421</th>\n",
       "      <td>Munich District Court has confirmed the applic...</td>\n",
       "      <td>non-rumours</td>\n",
       "    </tr>\n",
       "    <tr>\n",
       "      <th>6422</th>\n",
       "      <td>Where should the Gurlitt collection go?  :Many...</td>\n",
       "      <td>non-rumours</td>\n",
       "    </tr>\n",
       "    <tr>\n",
       "      <th>6423</th>\n",
       "      <td>@DrDonnaYates They should insure the Swiss art...</td>\n",
       "      <td>non-rumours</td>\n",
       "    </tr>\n",
       "    <tr>\n",
       "      <th>6424</th>\n",
       "      <td>‘The Gurlitt collection should be sold to bene...</td>\n",
       "      <td>non-rumours</td>\n",
       "    </tr>\n",
       "  </tbody>\n",
       "</table>\n",
       "<p>6425 rows × 2 columns</p>\n",
       "</div>"
      ],
      "text/plain": [
       "                                                   Text        Label\n",
       "0     #BREAKING: A Germanwings Airbus A320 has crash...      rumours\n",
       "1     Updated numbers @AP: BREAKING: #Germanwings CE...      rumours\n",
       "2     @YanniKouts @germanwings @flightradar24 A bit ...      rumours\n",
       "3     #Germanwings co-pilot suffered serious depress...      rumours\n",
       "4     @ThisIsGaZa إِنَّا لِلّهِ وَإِنَّـا إِلَيْهِ ر...      rumours\n",
       "...                                                 ...          ...\n",
       "6420  Franz Marc: Horses... Update-#Gurlitt Nazi-Tai...  non-rumours\n",
       "6421  Munich District Court has confirmed the applic...  non-rumours\n",
       "6422  Where should the Gurlitt collection go?  :Many...  non-rumours\n",
       "6423  @DrDonnaYates They should insure the Swiss art...  non-rumours\n",
       "6424  ‘The Gurlitt collection should be sold to bene...  non-rumours\n",
       "\n",
       "[6425 rows x 2 columns]"
      ]
     },
     "execution_count": 63,
     "metadata": {},
     "output_type": "execute_result"
    }
   ],
   "source": [
    "'''\n",
    "dirct ---\n",
    "\n",
    "- non-rumours\n",
    "- rumours\n",
    "'''\n",
    "data = []\n",
    "path = 'all-rnr-annotated-threads/{}'\n",
    "for di in dirs:\n",
    "    for dirct in os.listdir(path.format(di)):\n",
    "        if dirct != '.DS_Store':\n",
    "            for num_dir in os.listdir((path + '/{}').format(di, dirct)):\n",
    "                # now in one dir inside the non-rumors\n",
    "                if num_dir != '.DS_Store':\n",
    "#                     print(num_dir)\n",
    "                    '''\n",
    "                    - source-tweets \n",
    "                    - reactions\n",
    "\n",
    "\n",
    "                    one data sample: x_source + x_reactions\n",
    "                    '''\n",
    "                    one_row_sample = []\n",
    "                    one_data_sample = ''\n",
    "                    for d in os.listdir((path + '/{}/{}').format(di, dirct, num_dir)):  \n",
    "                        if d == 'source-tweets':\n",
    "                            for j_file in os.listdir((path + '/{}/{}/{}').format(di, dirct, num_dir, d)):\n",
    "                                if j_file != '.DS_Store':\n",
    "                                    j_file_path = (path + '/{}/{}/{}/{}').format(di, dirct, num_dir, d, j_file)\n",
    "                                    j = json.load(open(j_file_path, 'rb'))\n",
    "                                    source = j['text'] # this is a str\n",
    "                                    one_data_sample = one_data_sample + source\n",
    "\n",
    "                        if d == 'reactions':\n",
    "                            for j_file in os.listdir((path + '/{}/{}/{}').format(di, dirct, num_dir, d)):\n",
    "                                if j_file != '.DS_Store':\n",
    "                                    j_file_path = (path + '/{}/{}/{}/{}').format(di, dirct, num_dir, d, j_file)\n",
    "                                    j = json.load(open(j_file_path, 'rb'))\n",
    "                                    reaction = j['text'] # str\n",
    "                                    one_data_sample = one_data_sample + reaction\n",
    "\n",
    "                    one_row_sample.append(one_data_sample)\n",
    "                    if dirct == 'non-rumours':\n",
    "                        one_row_sample.append('non-rumours')\n",
    "                    if dirct == 'rumours':\n",
    "                        one_row_sample.append('rumours')\n",
    "                    \n",
    "                    data.append(one_row_sample)\n",
    "\n",
    "df = pd.DataFrame(data, columns=['Text', 'Label'])\n",
    "df"
   ]
  },
  {
   "cell_type": "code",
   "execution_count": 64,
   "id": "b8d5a036",
   "metadata": {},
   "outputs": [],
   "source": [
    "df.to_csv('Pheme.csv')"
   ]
  },
  {
   "cell_type": "markdown",
   "id": "297a175e",
   "metadata": {},
   "source": [
    "Did a correct preprocessing, \n",
    "\n",
    "Rumours + non-Rumours total get 6425.\n",
    "\n",
    "通过向Paper [Link](https://arxiv.org/pdf/1806.03713v1.pdf) 求证， 我是对的！"
   ]
  }
 ],
 "metadata": {
  "kernelspec": {
   "display_name": "Python 3 (ipykernel)",
   "language": "python",
   "name": "python3"
  },
  "language_info": {
   "codemirror_mode": {
    "name": "ipython",
    "version": 3
   },
   "file_extension": ".py",
   "mimetype": "text/x-python",
   "name": "python",
   "nbconvert_exporter": "python",
   "pygments_lexer": "ipython3",
   "version": "3.9.7"
  }
 },
 "nbformat": 4,
 "nbformat_minor": 5
}
