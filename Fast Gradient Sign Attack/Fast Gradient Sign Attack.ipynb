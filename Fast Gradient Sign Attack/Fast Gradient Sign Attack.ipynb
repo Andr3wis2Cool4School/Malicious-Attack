{
 "cells": [
  {
   "cell_type": "markdown",
   "id": "c048a65c",
   "metadata": {},
   "source": [
    "## Fast Gradient Sign Attack\n",
    "\n",
    "\n",
    "$$\\mathbf{x} + \\epsilon \\text{sign}(\\nabla_{\\mathbf{x}} J(\\theta, \\mathbf{x}, y))$$\n",
    "\n",
    "---\n",
    "\n",
    "### Data"
   ]
  },
  {
   "cell_type": "code",
   "execution_count": 1,
   "id": "ac2f7630",
   "metadata": {},
   "outputs": [],
   "source": [
    "import torch \n",
    "import torchvision\n",
    "import torch.nn as nn\n",
    "import torch.nn.functional as F\n",
    "from torchvision import transforms\n",
    "from torch.utils import data"
   ]
  },
  {
   "cell_type": "code",
   "execution_count": 2,
   "id": "e537fa0e",
   "metadata": {},
   "outputs": [],
   "source": [
    "def get_dataloader_workers():\n",
    "    return 4"
   ]
  },
  {
   "cell_type": "code",
   "execution_count": 3,
   "id": "5948c62c",
   "metadata": {},
   "outputs": [],
   "source": [
    "def load_data_mnist(batch_size):\n",
    "    trans = [transforms.ToTensor()]\n",
    "    trans = transforms.Compose(trans)\n",
    "    \n",
    "    mnist_train = torchvision.datasets.MNIST(\n",
    "        root=\"./data\", train=True, transform=trans, download=True\n",
    "    )\n",
    "    mnist_test = torchvision.datasets.MNIST(\n",
    "        root=\"./data\", train=False, transform=trans, download=True\n",
    "    )\n",
    "    \n",
    "    train_iter = data.DataLoader(mnist_train, batch_size, shuffle=True,\n",
    "                                 num_workers = get_dataloader_workers())\n",
    "    test_iter = data.DataLoader(mnist_test, batch_size, shuffle=True,\n",
    "                                 num_workers = get_dataloader_workers())\n",
    "    \n",
    "    return train_iter, test_iter"
   ]
  },
  {
   "cell_type": "markdown",
   "id": "b4d1573b",
   "metadata": {},
   "source": [
    "### Model"
   ]
  },
  {
   "cell_type": "code",
   "execution_count": 5,
   "id": "82de02ff",
   "metadata": {},
   "outputs": [],
   "source": [
    "class Net(nn.Module):\n",
    "    def __init__(self):\n",
    "        super(Net, self).__init__()\n",
    "        self.conv1 = nn.Conv2d(1, 10, kernel_size=5)\n",
    "        self.conv2 = nn.Conv2d(10, 20, kernel_size=5)\n",
    "        self.conv2_drop = nn.Dropout2d()\n",
    "        self.fc1 = nn.Linear(320, 50)\n",
    "        self.fc2 = nn.Linear(50, 10)\n",
    "        \n",
    "    def forward(self, x):\n",
    "        x = F.relu(F.max_pool2d(self.conv1(x), 2))\n",
    "        x = F.relu(F.max_pool2d(self.conv2_drop(self.conv2(x)), 2))\n",
    "        x = x.view(-1, 320)\n",
    "        x = F.relu(self.fc1(x))\n",
    "        x = F.dropout(x, training=self.training)\n",
    "        x = self.fc2(x)\n",
    "        return F.log_softmax(x, dim=1)"
   ]
  },
  {
   "cell_type": "markdown",
   "id": "e1f5c461",
   "metadata": {},
   "source": [
    "Load the model"
   ]
  },
  {
   "cell_type": "code",
   "execution_count": 6,
   "id": "59ea9601",
   "metadata": {},
   "outputs": [
    {
     "data": {
      "text/plain": [
       "<All keys matched successfully>"
      ]
     },
     "execution_count": 6,
     "metadata": {},
     "output_type": "execute_result"
    }
   ],
   "source": [
    "model = Net()\n",
    "model.load_state_dict(torch.load('lenet_mnist_model.pth', map_location=torch.device('cpu')))"
   ]
  },
  {
   "cell_type": "markdown",
   "id": "862bf1c2",
   "metadata": {},
   "source": [
    "`model.eval()` is a kind of switch for some specific layers/parts of the model that behave differently during traing and inference (evaluating) time. For example, **Dropouts** kayers, batchnorm layers. Need to trun off them during model evaluation, and `.eval()` will do it.\n",
    "\n",
    "\n",
    "During training, we need to turn it back using `model.train()`."
   ]
  },
  {
   "cell_type": "code",
   "execution_count": 7,
   "id": "762eb3d4",
   "metadata": {},
   "outputs": [],
   "source": [
    "epsilons = [0, .05, .1, .15, .2, .25, .3]"
   ]
  },
  {
   "cell_type": "code",
   "execution_count": 9,
   "id": "df301fd8",
   "metadata": {},
   "outputs": [],
   "source": [
    "def fgsm_attack(X, epsilon, data_grad):\n",
    "    sign_data_grad = data_grad.sign()\n",
    "    perturbed_X = X + epsilon * sign_data_grad\n",
    "    # adding clipping to maintain [0, 1] range\n",
    "    perturbed_X = torch.clamp(perturbed_X, 0, 1)\n",
    "    \n",
    "    return perturbed_X"
   ]
  },
  {
   "cell_type": "code",
   "execution_count": 12,
   "id": "57a3051a",
   "metadata": {},
   "outputs": [],
   "source": [
    "def test(model, test_iter, epsilon):\n",
    "    correct = 0\n",
    "    adv_examples = []\n",
    "    \n",
    "    for X, y in test_iter:\n",
    "        X.requires_grad = True\n",
    "        y_hat = model(X)\n",
    "        _, predict = torch.max(y_hat.data, 1)\n",
    "        if predict.item() != y:\n",
    "            continue\n",
    "        loss = F.nll_loss(y_hat, y)\n",
    "        \n",
    "        model.zero_grad()\n",
    "        loss.backward()\n",
    "        \n",
    "        data_grad = X.grad.data\n",
    "        \n",
    "        perturbed_X = fgsm_attack(X, epsilon, data_grad)\n",
    "        \n",
    "        re_y_hat = model(perturbed_X)\n",
    "        \n",
    "        _, re_predict = torch.max(re_y_hat.data, 1)\n",
    "        if re_predict.item() == y.item():\n",
    "            correct += 1\n",
    "            \n",
    "            if (epsilon == 0) and (len(adv_examples) < 5):\n",
    "                adv_ex = perturbed_X.squeeze().detach()\n",
    "                adv_examples.append((predict.item(), re_predict.item(), adv_ex))\n",
    "            else:\n",
    "                if len(adv_examples) < 5:\n",
    "                    adv_ex = perturbed_X.squeeze().detach()\n",
    "                    adv_examples.append((predict.item(), re_predict.item(), adv_ex))\n",
    "                    \n",
    "    final_acc = correct/float(len(test_iter))\n",
    "    print(\"Epsilon: {}\\tTest Accuracy = {}/{}\".format(epsilon, correct, len(test_iter), final_acc))\n",
    "\n",
    "    return final_acc, adv_examples      "
   ]
  },
  {
   "cell_type": "code",
   "execution_count": 13,
   "id": "108471d7",
   "metadata": {},
   "outputs": [
    {
     "name": "stdout",
     "output_type": "stream",
     "text": [
      "Downloading http://yann.lecun.com/exdb/mnist/train-images-idx3-ubyte.gz\n",
      "Downloading http://yann.lecun.com/exdb/mnist/train-images-idx3-ubyte.gz to ./data/MNIST/raw/train-images-idx3-ubyte.gz\n"
     ]
    },
    {
     "data": {
      "application/vnd.jupyter.widget-view+json": {
       "model_id": "921415b6a2cf4d409f535ee768f0f439",
       "version_major": 2,
       "version_minor": 0
      },
      "text/plain": [
       "  0%|          | 0/9912422 [00:00<?, ?it/s]"
      ]
     },
     "metadata": {},
     "output_type": "display_data"
    },
    {
     "name": "stdout",
     "output_type": "stream",
     "text": [
      "Extracting ./data/MNIST/raw/train-images-idx3-ubyte.gz to ./data/MNIST/raw\n",
      "\n",
      "Downloading http://yann.lecun.com/exdb/mnist/train-labels-idx1-ubyte.gz\n",
      "Downloading http://yann.lecun.com/exdb/mnist/train-labels-idx1-ubyte.gz to ./data/MNIST/raw/train-labels-idx1-ubyte.gz\n"
     ]
    },
    {
     "data": {
      "application/vnd.jupyter.widget-view+json": {
       "model_id": "3e322b956c314d44a2489351930178bd",
       "version_major": 2,
       "version_minor": 0
      },
      "text/plain": [
       "  0%|          | 0/28881 [00:00<?, ?it/s]"
      ]
     },
     "metadata": {},
     "output_type": "display_data"
    },
    {
     "name": "stdout",
     "output_type": "stream",
     "text": [
      "Extracting ./data/MNIST/raw/train-labels-idx1-ubyte.gz to ./data/MNIST/raw\n",
      "\n",
      "Downloading http://yann.lecun.com/exdb/mnist/t10k-images-idx3-ubyte.gz\n",
      "Downloading http://yann.lecun.com/exdb/mnist/t10k-images-idx3-ubyte.gz to ./data/MNIST/raw/t10k-images-idx3-ubyte.gz\n"
     ]
    },
    {
     "data": {
      "application/vnd.jupyter.widget-view+json": {
       "model_id": "78493d3b436f453f8f2e2087d3759da4",
       "version_major": 2,
       "version_minor": 0
      },
      "text/plain": [
       "  0%|          | 0/1648877 [00:00<?, ?it/s]"
      ]
     },
     "metadata": {},
     "output_type": "display_data"
    },
    {
     "name": "stdout",
     "output_type": "stream",
     "text": [
      "Extracting ./data/MNIST/raw/t10k-images-idx3-ubyte.gz to ./data/MNIST/raw\n",
      "\n",
      "Downloading http://yann.lecun.com/exdb/mnist/t10k-labels-idx1-ubyte.gz\n",
      "Downloading http://yann.lecun.com/exdb/mnist/t10k-labels-idx1-ubyte.gz to ./data/MNIST/raw/t10k-labels-idx1-ubyte.gz\n"
     ]
    },
    {
     "data": {
      "application/vnd.jupyter.widget-view+json": {
       "model_id": "b81d852862944f968dcddd03d061f716",
       "version_major": 2,
       "version_minor": 0
      },
      "text/plain": [
       "  0%|          | 0/4542 [00:00<?, ?it/s]"
      ]
     },
     "metadata": {},
     "output_type": "display_data"
    },
    {
     "name": "stdout",
     "output_type": "stream",
     "text": [
      "Extracting ./data/MNIST/raw/t10k-labels-idx1-ubyte.gz to ./data/MNIST/raw\n",
      "\n",
      "Epsilon: 0\tTest Accuracy = 9143/10000\n",
      "Epsilon: 0.05\tTest Accuracy = 8785/10000\n",
      "Epsilon: 0.1\tTest Accuracy = 8084/10000\n",
      "Epsilon: 0.15\tTest Accuracy = 6871/10000\n",
      "Epsilon: 0.2\tTest Accuracy = 5297/10000\n",
      "Epsilon: 0.25\tTest Accuracy = 3648/10000\n",
      "Epsilon: 0.3\tTest Accuracy = 2306/10000\n"
     ]
    }
   ],
   "source": [
    "train_iter, test_iter = load_data_mnist(batch_size = 1)\n",
    "\n",
    "accuracies = []\n",
    "examples = []\n",
    "\n",
    "# Run test for each epsilon\n",
    "for eps in epsilons:\n",
    "    acc, ex = test(model, test_iter, eps)\n",
    "    accuracies.append(acc)\n",
    "    examples.append(ex)"
   ]
  },
  {
   "cell_type": "code",
   "execution_count": 14,
   "id": "57985f5b",
   "metadata": {},
   "outputs": [
    {
     "data": {
      "image/png": "[encoded data removed]",
      "text/plain": [
       "<Figure size 360x360 with 1 Axes>"
      ]
     },
     "metadata": {
      "needs_background": "light"
     },
     "output_type": "display_data"
    }
   ],
   "source": [
    "import matplotlib.pyplot as plt\n",
    "plt.figure(figsize=(5, 5))\n",
    "plt.plot(epsilons, accuracies)\n",
    "plt.title(\"Accuracy vs Epsilon\")\n",
    "plt.xlabel(\"Epsilon\")\n",
    "plt.ylabel(\"Accuracy\")\n",
    "plt.show()"
   ]
  }
 ],
 "metadata": {
  "kernelspec": {
   "display_name": "Python 3 (ipykernel)",
   "language": "python",
   "name": "python3"
  },
  "language_info": {
   "codemirror_mode": {
    "name": "ipython",
    "version": 3
   },
   "file_extension": ".py",
   "mimetype": "text/x-python",
   "name": "python",
   "nbconvert_exporter": "python",
   "pygments_lexer": "ipython3",
   "version": "3.9.7"
  }
 },
 "nbformat": 4,
 "nbformat_minor": 5
}
